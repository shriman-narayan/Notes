{
 "cells": [
  {
   "cell_type": "code",
   "execution_count": null,
   "metadata": {},
   "outputs": [],
   "source": [
    "        ############    #############   Python Loops   #############   ##############   \n",
    "    \n",
    " =>  Python programming language provides following types of loops to handle looping requirements. \n",
    "\n",
    " =>  Python provides three ways for executing the loops. \n",
    "        \n",
    " =>  While all the ways provide similar basic functionality, they differ in their syntax and \n",
    "         condition checking time."
   ]
  },
  {
   "cell_type": "code",
   "execution_count": null,
   "metadata": {},
   "outputs": [],
   "source": [
    "    ############    #############   While Loop   #############   ##############   \n",
    "    \n",
    " =>  while loop is used to execute a block of statements repeatedly until a given a condition is satisfied.\n",
    "\n",
    " =>  And when the condition becomes false, the line immediately after the loop in program is executed.  \n",
    "    \n",
    "      syntax -         \n",
    "                       while expression:\n",
    "                        statement(s)\n",
    "            \n",
    "\n",
    " =>  All the statements indented by the same number of character spaces after a programming construct are \n",
    "       considered to be part of a single block of code. \n",
    "    \n",
    " =>  Python uses indentation as its method of grouping statements."
   ]
  },
  {
   "cell_type": "code",
   "execution_count": null,
   "metadata": {},
   "outputs": [],
   "source": [
    "# Python program to illustrate while loop\n",
    "\n",
    "count = 0\n",
    "while (count < 3): \n",
    "\tcount = count + 1\n",
    "\tprint(\"Hello Geek\") \n"
   ]
  },
  {
   "cell_type": "code",
   "execution_count": null,
   "metadata": {},
   "outputs": [],
   "source": [
    "  =>  In above code, our count is equal to '0'.\n",
    "     \n",
    "  =>  while count is less than 3, This will execute the statements repeatedly.\n",
    "  \n",
    "  =>  when our count (=0) becomes one greater than 2nd count,  this condition becomes False,  \n",
    "         and then the lines after the loop will be executed.      "
   ]
  },
  {
   "cell_type": "code",
   "execution_count": null,
   "metadata": {},
   "outputs": [],
   "source": [
    "     ##############   #############   Using else statement with while loops    ###############    ###############\n",
    "    \n",
    " =>  while loop executes the block until a condition is satisfied.\n",
    "\n",
    " =>  When the condition becomes false, the statement immediately after the loop is executed.\n",
    "\n",
    " =>  The else clause is only executed when your while condition becomes false. \n",
    "\n",
    " =>  If you break out of the loop, or if an exception is raised, it won’t be executed.\n",
    "    \n",
    "    if-else statements                             while-else statements\n",
    "   \n",
    "    if condition:                                  while condition: \n",
    "        statement1                                      # execute these statements \n",
    "    else:                                          else: \n",
    "        statement2                                      # execute these statement\n",
    "                            \n",
    "            "
   ]
  },
  {
   "cell_type": "code",
   "execution_count": null,
   "metadata": {},
   "outputs": [],
   "source": [
    "#Python program to illustrate combining else with while \n",
    "\n",
    "count = 0\n",
    "while (count < 3):\t \n",
    "\tcount = count + 1\n",
    "\tprint(\"Hello Geek\") \n",
    "\n",
    "else: \n",
    "\tprint(\"Hey! congratts, while condition has been executed and then becomes false successfully and Now we are in else block.\") \n"
   ]
  },
  {
   "cell_type": "code",
   "execution_count": null,
   "metadata": {},
   "outputs": [],
   "source": [
    "    ##############    ##############   Single Statement While block   ##############    ###############\n",
    "    \n",
    " =>  Similar to if block, If the while block consists of a single statement then\n",
    "         we can declare the entire loop in a single line as shown below.\n",
    "    \n",
    "    >>> count = 0\n",
    "    >>> while (count == 0): print (\"Welcome to the Infinite loop\")\n",
    "    \n",
    " =>  Note: It is suggested not to use this type of loops as it is a never ending infinite loop \n",
    "            where the condition is always true and you have to forcefully terminate the compiler.\n",
    "        \n",
    " =>  while loop is used in iterartors will be covered furtherly."
   ]
  },
  {
   "cell_type": "code",
   "execution_count": null,
   "metadata": {},
   "outputs": [],
   "source": [
    "    #################   ############### For loop   #############    ###############    ##############\n",
    "    \n",
    " =>  For loops are used for sequential traversal. \n",
    "       e.g. traversing a list or string or array etc. \n",
    "    \n",
    " =>  In Python, there is no C style for loop, i.e., for (i=0; i<n; i++). \n",
    "\n",
    " =>  There is “for in” loop which is similar to for each loop in other languages.\n",
    "    \n",
    "    SYNTAX --\n",
    "    \n",
    "        for iterator_var in sequence:\n",
    "            statements(s)\n",
    "\n",
    "            \n",
    " =>  It can be used to iterate over iterators and a range."
   ]
  },
  {
   "cell_type": "code",
   "execution_count": null,
   "metadata": {},
   "outputs": [],
   "source": [
    "# Python program to illustrate Iterating over a list \n",
    "\n",
    "print(\"List Iteration\") \n",
    "list = [\"geeks\", \"for\", \"geeks\"] \n",
    "for i in list:\n",
    "    print(i) "
   ]
  },
  {
   "cell_type": "code",
   "execution_count": null,
   "metadata": {},
   "outputs": [],
   "source": [
    "# Iterating over a tuple (immutable) \n",
    "\n",
    "print(\"\\nTuple Iteration\") \n",
    "t = (\"geeks\", \"for\", \"geeks\") \n",
    "for i in t: \n",
    "    print(i) "
   ]
  },
  {
   "cell_type": "code",
   "execution_count": null,
   "metadata": {},
   "outputs": [],
   "source": [
    "# Iterating over a String \n",
    "print(\"\\nString Iteration\")     \n",
    "s = \"Geeks\"\n",
    "for i in s : \n",
    "    print(i) "
   ]
  },
  {
   "cell_type": "code",
   "execution_count": null,
   "metadata": {},
   "outputs": [],
   "source": [
    "# Iterating over dictionary \n",
    "print(\"\\nDictionary Iteration\")    \n",
    "d = dict()  \n",
    "d['xyz'] = 123\n",
    "d['abc'] = 345\n",
    "for i in d : \n",
    "    print(\"%s  %d\" %(i, d[i])) "
   ]
  },
  {
   "cell_type": "code",
   "execution_count": null,
   "metadata": {},
   "outputs": [],
   "source": [
    "    ###############    ##############   Iterating by index of sequences   ###############    ###############\n",
    "    \n",
    " =>  We can also use the index of elements in the sequence to iterate. \n",
    "\n",
    " =>  The key idea is to first calculate the length of the list and in iterate over the sequence \n",
    "        within the range of this length."
   ]
  },
  {
   "cell_type": "code",
   "execution_count": null,
   "metadata": {},
   "outputs": [],
   "source": [
    "# Python program to illustrate Iterating by index \n",
    "  \n",
    "list = [\"geeks\", \"for\", \"geeks\"] \n",
    "for index in range(len(list)): \n",
    "    print (list[index]) "
   ]
  },
  {
   "cell_type": "code",
   "execution_count": null,
   "metadata": {},
   "outputs": [],
   "source": [
    "    ############   ###########   Using else statement with for loop  #############   #############\n",
    "    \n",
    " =>  We can also combine else statement with for loop like in while loop. \n",
    "\n",
    " =>  But as there is no condition in for loop based on which the execution will terminate so the else block \n",
    "        will be executed immediately after for block finishes execution."
   ]
  },
  {
   "cell_type": "code",
   "execution_count": 2,
   "metadata": {},
   "outputs": [
    {
     "name": "stdout",
     "output_type": "stream",
     "text": [
      "geeks\n",
      "for\n",
      "geeks\n",
      "Inside Else Block\n"
     ]
    }
   ],
   "source": [
    "# Python program to illustrate combining else with for \n",
    "  \n",
    "list = [\"geeks\", \"for\", \"geeks\"] \n",
    "for index in range(len(list)): \n",
    "    print (list[index]) \n",
    "else: \n",
    "    print (\"Inside Else Block\")"
   ]
  },
  {
   "cell_type": "code",
   "execution_count": null,
   "metadata": {},
   "outputs": [],
   "source": []
  }
 ],
 "metadata": {
  "kernelspec": {
   "display_name": "Python 3",
   "language": "python",
   "name": "python3"
  },
  "language_info": {
   "codemirror_mode": {
    "name": "ipython",
    "version": 3
   },
   "file_extension": ".py",
   "mimetype": "text/x-python",
   "name": "python",
   "nbconvert_exporter": "python",
   "pygments_lexer": "ipython3",
   "version": "3.7.7"
  }
 },
 "nbformat": 4,
 "nbformat_minor": 4
}
