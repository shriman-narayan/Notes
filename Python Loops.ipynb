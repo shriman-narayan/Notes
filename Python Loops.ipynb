{
 "cells": [
  {
   "cell_type": "code",
   "execution_count": null,
   "metadata": {},
   "outputs": [],
   "source": [
    "        ############    #############   Python Loops   #############   ##############   \n",
    "    \n",
    " =>  Python programming language provides following types of loops to handle looping requirements. \n",
    "\n",
    " =>  Python provides three ways for executing the loops. \n",
    "        \n",
    " =>  While all the ways provide similar basic functionality, they differ in their syntax and \n",
    "         condition checking time."
   ]
  },
  {
   "cell_type": "code",
   "execution_count": null,
   "metadata": {},
   "outputs": [],
   "source": [
    "    ############    #############   While Loop   #############   ##############   \n",
    "    \n",
    " =>  while loop is used to execute a block of statements repeatedly until a given a condition is satisfied.\n",
    "\n",
    " =>  And when the condition becomes false, the line immediately after the loop in program is executed.  \n",
    "    \n",
    "      syntax -         \n",
    "                       while expression:\n",
    "                        statement(s)\n",
    "            \n",
    "\n",
    " =>  All the statements indented by the same number of character spaces after a programming construct are \n",
    "       considered to be part of a single block of code. \n",
    "    \n",
    " =>  Python uses indentation as its method of grouping statements."
   ]
  },
  {
   "cell_type": "code",
   "execution_count": null,
   "metadata": {},
   "outputs": [],
   "source": [
    "# Python program to illustrate while loop\n",
    "\n",
    "count = 0\n",
    "while (count < 3): \n",
    "\tcount = count + 1\n",
    "\tprint(\"Hello Geek\") \n"
   ]
  },
  {
   "cell_type": "code",
   "execution_count": null,
   "metadata": {},
   "outputs": [],
   "source": [
    "  =>  In above code, our count is equal to '0'.\n",
    "     \n",
    "  =>  while count is less than 3, This will execute the statements repeatedly.\n",
    "  \n",
    "  =>  when our count (=0) becomes one greater than 2nd count,  this condition becomes False,  \n",
    "         and then the lines after the loop will be executed.      "
   ]
  },
  {
   "cell_type": "code",
   "execution_count": null,
   "metadata": {},
   "outputs": [],
   "source": [
    "     ##############   #############   Using else statement with while loops    ###############    ###############\n",
    "    \n",
    " =>  while loop executes the block until a condition is satisfied.\n",
    "\n",
    " =>  When the condition becomes false, the statement immediately after the loop is executed.\n",
    "\n",
    " =>  The else clause is only executed when your while condition becomes false. \n",
    "\n",
    " =>  If you break out of the loop, or if an exception is raised, it won’t be executed.\n",
    "    \n",
    "    if-else statements                             while-else statements\n",
    "   \n",
    "    if condition:                                  while condition: \n",
    "        statement1                                      # execute these statements \n",
    "    else:                                          else: \n",
    "        statement2                                      # execute these statement\n",
    "                            \n",
    "            "
   ]
  },
  {
   "cell_type": "code",
   "execution_count": 1,
   "metadata": {},
   "outputs": [
    {
     "name": "stdout",
     "output_type": "stream",
     "text": [
      "Hello Geek\n",
      "Hello Geek\n",
      "Hello Geek\n",
      "Hey! congratts, while condition has been executed and then becomes false successfully\n",
      "and Now we are in else block.\n"
     ]
    }
   ],
   "source": [
    "#Python program to illustrate combining else with while \n",
    "\n",
    "count = 0\n",
    "while (count < 3):\t \n",
    "\tcount = count + 1\n",
    "\tprint(\"Hello Geek\") \n",
    "\n",
    "else: \n",
    "\tprint(\"Hey! congratts, while condition has been executed and then becomes false successfully\"); print(\"and Now we are in else block.\") \n"
   ]
  },
  {
   "cell_type": "code",
   "execution_count": null,
   "metadata": {},
   "outputs": [],
   "source": [
    "##############    ##############   Single Statement While block   ##############    ###############\n",
    "    \n",
    " =>  Similar to if block, If the while block consists of a single statement then\n",
    "         we can declare the entire loop in a single line as shown below.\n",
    "    \n",
    "    >>> count = 0\n",
    "    >>> while (count == 0): print (\"Welcome to the Infinite loop\")\n",
    "    \n",
    " =>  Note: It is suggested not to use this type of loops as it is a never ending infinite loop \n",
    "            where the condition is always true and you have to forcefully terminate the compiler.\n",
    "        \n",
    " =>  while loop is used in iterartors will be covered furtherly."
   ]
  },
  {
   "cell_type": "code",
   "execution_count": null,
   "metadata": {},
   "outputs": [],
   "source": [
    "    #################   ############### For loop   #############    ###############    ##############\n",
    "    \n",
    " =>  For loops are used for sequential traversal. \n",
    "       e.g. traversing a list or string or array etc. \n",
    "    \n",
    " =>  In Python, there is no C style for loop, i.e., for (i=0; i<n; i++). \n",
    "\n",
    " =>  There is “for in” loop which is similar to for each loop in other languages.\n",
    "    \n",
    "    SYNTAX --\n",
    "    \n",
    "        for iterator_var in sequence:\n",
    "            statements(s)\n",
    "\n",
    "            \n",
    " =>  It can be used to iterate over iterators and a range."
   ]
  },
  {
   "cell_type": "code",
   "execution_count": null,
   "metadata": {},
   "outputs": [],
   "source": [
    "# Python program to illustrate Iterating over a list \n",
    "\n",
    "print(\"List Iteration\") \n",
    "list = [\"geeks\", \"for\", \"geeks\"] \n",
    "for i in list:\n",
    "    print(i) "
   ]
  },
  {
   "cell_type": "code",
   "execution_count": null,
   "metadata": {},
   "outputs": [],
   "source": [
    "# Iterating over a tuple (immutable) \n",
    "\n",
    "print(\"\\nTuple Iteration\") \n",
    "t = (\"geeks\", \"for\", \"geeks\") \n",
    "for i in t: \n",
    "    print(i) "
   ]
  },
  {
   "cell_type": "code",
   "execution_count": null,
   "metadata": {},
   "outputs": [],
   "source": [
    "# Iterating over a String \n",
    "print(\"\\nString Iteration\")     \n",
    "s = \"Geeks\"\n",
    "for i in s : \n",
    "    print(i) "
   ]
  },
  {
   "cell_type": "code",
   "execution_count": null,
   "metadata": {},
   "outputs": [],
   "source": [
    "# Iterating over dictionary \n",
    "print(\"\\nDictionary Iteration\")    \n",
    "d = dict()  \n",
    "d['xyz'] = 123\n",
    "d['abc'] = 345\n",
    "for i in d : \n",
    "    print(\"%s  %d\" %(i, d[i])) "
   ]
  },
  {
   "cell_type": "code",
   "execution_count": null,
   "metadata": {},
   "outputs": [],
   "source": [
    "    ###############    ##############   Iterating by index of sequences   ###############    ###############\n",
    "    \n",
    " =>  We can also use the index of elements in the sequence to iterate. \n",
    "\n",
    " =>  The key idea is to first calculate the length of the list and in iterate over the sequence \n",
    "        within the range of this length."
   ]
  },
  {
   "cell_type": "code",
   "execution_count": null,
   "metadata": {},
   "outputs": [],
   "source": [
    "# Python program to illustrate Iterating by index \n",
    "  \n",
    "list = [\"geeks\", \"for\", \"geeks\"] \n",
    "for index in range(len(list)): \n",
    "    print (list[index]) "
   ]
  },
  {
   "cell_type": "code",
   "execution_count": null,
   "metadata": {},
   "outputs": [],
   "source": [
    "    ############   ###########   Using else statement with for loop  #############   ##############\n",
    "    \n",
    " =>  We can also combine else statement with for loop like in while loop. \n",
    "\n",
    " =>  But as there is no condition in for loop based on which the execution will terminate so the else block \n",
    "        will be executed immediately after for block finishes execution.\n",
    "         \n",
    " =>  We can use for in loop for user defined iterators.  "
   ]
  },
  {
   "cell_type": "code",
   "execution_count": 2,
   "metadata": {},
   "outputs": [
    {
     "name": "stdout",
     "output_type": "stream",
     "text": [
      "geeks\n",
      "for\n",
      "geeks\n",
      "Inside Else Block\n"
     ]
    }
   ],
   "source": [
    "# Python program to illustrate combining else with for \n",
    "  \n",
    "list = [\"geeks\", \"for\", \"geeks\"] \n",
    "for index in range(len(list)): \n",
    "    print (list[index]) \n",
    "else: \n",
    "    print (\"Inside Else Block\")"
   ]
  },
  {
   "cell_type": "code",
   "execution_count": null,
   "metadata": {},
   "outputs": [],
   "source": [
    "          ###########    ############   Nested Loops   #############   #############\n",
    "    \n",
    " =>  Python programming language allows to use one loop inside another loop. \n",
    "\n",
    " => syntax -\n",
    "    \n",
    "                for iterator_var in sequence: \n",
    "                    for iterator_var in sequence: \n",
    "                        statements(s) \n",
    "                        statements(s) \n",
    "                        \n",
    " =>  syntax for a Nested while loop is -\n",
    "\n",
    "                while expression: \n",
    "                    while expression: \n",
    "                        statement(s)\n",
    "                        statement(s) \n",
    "                        \n",
    " =>  A final note on loop nesting is that we can put any type of loop inside of any other type of loop."
   ]
  },
  {
   "cell_type": "code",
   "execution_count": 6,
   "metadata": {},
   "outputs": [
    {
     "name": "stdout",
     "output_type": "stream",
     "text": [
      "1 \n",
      "2 2 \n",
      "3 3 3 \n",
      "4 4 4 4 \n"
     ]
    }
   ],
   "source": [
    "# Python program to illustrate nested for loops in Python \n",
    "\n",
    "from __future__ import print_function \n",
    "\n",
    "for i in range(1, 5): \n",
    "    for j in range(i): \n",
    "        print(i, end=' ') \n",
    "    print() \n",
    "\n"
   ]
  },
  {
   "cell_type": "code",
   "execution_count": null,
   "metadata": {},
   "outputs": [],
   "source": [
    "   #############    ##############   Loop Control Statements    ################    ################  \n",
    "    \n",
    " =>  Loop control statements change execution from its normal sequence.\n",
    "\n",
    " =>  When execution leaves a scope, all automatic objects that were created in that scope are destroyed.\n",
    "    \n",
    " =>  Python supports the following control statements.\n",
    "\n",
    "        * continue statement : It returns the control to the beginning of the loop.\n",
    "       \n",
    "        * break statement : It brings control out of the loop.\n",
    "        \n",
    "        * pass statement :  We use pass statement to write empty loops. \n",
    "                              Pass is also used for empty control statement, function and classes."
   ]
  },
  {
   "cell_type": "code",
   "execution_count": 2,
   "metadata": {},
   "outputs": [
    {
     "name": "stdout",
     "output_type": "stream",
     "text": [
      "Current Letter : g\n",
      "Current Letter : k\n",
      "Current Letter : f\n",
      "Current Letter : o\n",
      "Current Letter : r\n",
      "Current Letter : g\n",
      "Current Letter : k\n"
     ]
    }
   ],
   "source": [
    "# python Program to show the use of continue statement.\n",
    "\n",
    "# Prints all letters except 'e' and 's' \n",
    "for letter in 'geeksforgeeks': \n",
    "\tif letter == 'e' or letter == 's': \n",
    "\t\tcontinue\n",
    "\tprint ('Current Letter :', letter) \n",
    "\tvar = 10\n"
   ]
  },
  {
   "cell_type": "code",
   "execution_count": 3,
   "metadata": {},
   "outputs": [
    {
     "name": "stdout",
     "output_type": "stream",
     "text": [
      "Current Letter : e\n"
     ]
    }
   ],
   "source": [
    "# Python program to show the use break statement\n",
    "\n",
    "for letter in 'geeksforgeeks': \n",
    "\n",
    "\t# break the loop as soon it sees 'e' \n",
    "\t# or 's' \n",
    "\tif letter == 'e' or letter == 's': \n",
    "\t\tbreak\n",
    "\n",
    "print ('Current Letter :', letter)\n"
   ]
  },
  {
   "cell_type": "code",
   "execution_count": 5,
   "metadata": {},
   "outputs": [
    {
     "name": "stdout",
     "output_type": "stream",
     "text": [
      "Last Letter : s\n"
     ]
    }
   ],
   "source": [
    "# python program to show the use of pass statement\n",
    "\n",
    "# An empty loop \n",
    "\n",
    "for letter in 'geeksforgeeks': \n",
    "\tpass\n",
    "print ('Last Letter :', letter )\n"
   ]
  },
  {
   "cell_type": "code",
   "execution_count": null,
   "metadata": {},
   "outputs": [],
   "source": [
    "   #############    ###############     Looping techniques in python   ##############    ##############\n",
    "    \n",
    " =>  Python supports various looping techniques by certain inbuilt functions, in various sequential containers. \n",
    "\n",
    " =>  These methods are primarily verya useful in competitive programming and also in various project \n",
    "       which require a specific technique with loops maintaining the overall structure of code.\n",
    "        \n",
    " ==>  Where they are used ?\n",
    "\n",
    "    =>  Different looping techniques are primarily useful in the places where we don’t need to actually \n",
    "          manipulate the structure and ordering of overall container, rather only print the elements \n",
    "          for a single use instance, no inplace change occurs in the container.\n",
    "         This can also be used in instances to save time."
   ]
  },
  {
   "cell_type": "code",
   "execution_count": null,
   "metadata": {},
   "outputs": [],
   "source": [
    " #############    ###############    Looping techniques in python    ##############    ##############\n",
    "    \n",
    " =>  enumerate() - This is used to loop through the containers printing the index number along with the value\n",
    "                     present in that particular index."
   ]
  },
  {
   "cell_type": "code",
   "execution_count": 1,
   "metadata": {},
   "outputs": [
    {
     "name": "stdout",
     "output_type": "stream",
     "text": [
      "0 The\n",
      "1 Big\n",
      "2 Bang\n",
      "3 Theory\n"
     ]
    }
   ],
   "source": [
    "# python code to demonstrate working of enumerate() \n",
    "\n",
    "for key, value in enumerate(['The', 'Big', 'Bang', 'Theory']): \n",
    "\tprint(key, value) \n"
   ]
  },
  {
   "cell_type": "code",
   "execution_count": null,
   "metadata": {},
   "outputs": [],
   "source": [
    " =>  zip() - This is used to combine 2 similar containers(list-list or dict-dict) printing the values sequentially. \n",
    "              The loop exists only till the smaller container ends.\n",
    "                 The detailed explanation of zip() and enumerate() can be found here."
   ]
  },
  {
   "cell_type": "code",
   "execution_count": null,
   "metadata": {},
   "outputs": [],
   "source": [
    "# python code to demonstrate working of zip() \n",
    "\n",
    "# initializing list \n",
    "questions = ['name', 'colour', 'shape'] \n",
    "answers = ['apple', 'red', 'a circle'] \n",
    "\n",
    "# using zip() to combine two containers \n",
    "# and print values \n",
    "for question, answer in zip(questions, answers): \n",
    "\tprint('What is your {0}? I am {1}.'.format(question, answer)) \n",
    " "
   ]
  },
  {
   "cell_type": "code",
   "execution_count": null,
   "metadata": {},
   "outputs": [],
   "source": [
    " =>  items():  items() performs the similar task on dictionary as iteritems() but have certain disadvantages \n",
    "                   when compared with iteritems().\n",
    "            \n",
    "                 *  It is very time consuming. \n",
    "                 \n",
    "                 *  Calling it on large dictionaries consumes quite a lot of time.\n",
    "                  \n",
    "                 *  It takes a lot of memory. Sometimes takes double the memory when called on dictionary."
   ]
  },
  {
   "cell_type": "code",
   "execution_count": 4,
   "metadata": {},
   "outputs": [
    {
     "name": "stdout",
     "output_type": "stream",
     "text": [
      "The key value pair using items is : \n",
      "geeks for\n",
      "only geeks\n"
     ]
    }
   ],
   "source": [
    "# python code to demonstrate working of iteritems(),items() \n",
    "\n",
    "d = { \"geeks\" : \"for\", \"only\" : \"geeks\" } \n",
    "\n",
    "# using items to print the dictionary key-value pair \n",
    "print (\"The key value pair using items is : \") \n",
    "for i,j in d.items(): \n",
    "\tprint (i,j)\n"
   ]
  },
  {
   "cell_type": "code",
   "execution_count": 5,
   "metadata": {},
   "outputs": [
    {
     "name": "stdout",
     "output_type": "stream",
     "text": [
      "Akbar The Great\n",
      "Chandragupta The Maurya\n",
      "Modi The Changer\n"
     ]
    }
   ],
   "source": [
    "# python code to demonstrate working of items() \n",
    "\n",
    "king = {'Akbar': 'The Great', 'Chandragupta': 'The Maurya', \n",
    "\t\t'Modi' : 'The Changer'} \n",
    "\n",
    "# using items to print the dictionary key-value pair \n",
    "for key, value in king.items(): \n",
    "\tprint(key, value) \n"
   ]
  },
  {
   "cell_type": "code",
   "execution_count": null,
   "metadata": {},
   "outputs": [],
   "source": [
    " =>  sorted():  This is used to print the container in sorted order. \n",
    "                  It doesn’t sort the container, but just prints the container in sorted order for 1 instance. \n",
    "            \n",
    " =>  Use of set() can be combined to remove duplicate occurrences."
   ]
  },
  {
   "cell_type": "code",
   "execution_count": 6,
   "metadata": {},
   "outputs": [
    {
     "name": "stdout",
     "output_type": "stream",
     "text": [
      "The list in sorted order is : \n",
      "1 1 2 3 3 5 6 \r\n",
      "The list in sorted order (without duplicates) is : \n",
      "1 2 3 5 6 "
     ]
    }
   ],
   "source": [
    "# python code to demonstrate working of sorted() \n",
    "\n",
    "# initializing list \n",
    "lis = [ 1 , 3, 5, 6, 2, 1, 3 ] \n",
    "\n",
    "# using sorted() to print the list in sorted order \n",
    "print (\"The list in sorted order is : \") \n",
    "for i in sorted(lis) : \n",
    "\tprint (i,end=\" \") \n",
    "\t\n",
    "print (\"\\r\") \n",
    "\t\n",
    "# using sorted() and set() to print the list in sorted order \n",
    "# use of set() removes duplicates. \n",
    "print (\"The list in sorted order (without duplicates) is : \") \n",
    "for i in sorted(set(lis)) : \n",
    "\tprint (i,end=\" \") \n"
   ]
  },
  {
   "cell_type": "code",
   "execution_count": 7,
   "metadata": {},
   "outputs": [
    {
     "name": "stdout",
     "output_type": "stream",
     "text": [
      "apple\n",
      "banana\n",
      "grape\n",
      "guava\n",
      "guave\n",
      "orange\n",
      "pear\n"
     ]
    }
   ],
   "source": [
    "# python code to demonstrate working of sorted() \n",
    "\n",
    "# initializing list \n",
    "basket = ['guave', 'orange', 'apple', 'pear', \n",
    "\t\t'guava', 'banana', 'grape'] \n",
    "\n",
    "# using sorted() and set() to print the list \n",
    "# in sorted order \n",
    "for fruit in sorted(set(basket)): \n",
    "\tprint(fruit) \n"
   ]
  },
  {
   "cell_type": "code",
   "execution_count": null,
   "metadata": {},
   "outputs": [],
   "source": [
    " =>  reversed() - This is used to print the values of container in the reversed order.\n",
    "\n",
    "      Note: It does not reflect any changes to the original list"
   ]
  },
  {
   "cell_type": "code",
   "execution_count": 8,
   "metadata": {},
   "outputs": [
    {
     "name": "stdout",
     "output_type": "stream",
     "text": [
      "The list in reversed order is : \n",
      "3 1 2 6 5 3 1 "
     ]
    }
   ],
   "source": [
    "# python code to demonstrate working of reversed() \n",
    "\n",
    "# initializing list \n",
    "lis = [ 1 , 3, 5, 6, 2, 1, 3 ] \n",
    "\n",
    "\n",
    "# using revered() to print the list in reversed order \n",
    "print (\"The list in reversed order is : \") \n",
    "for i in reversed(lis) : \n",
    "\tprint (i,end=\" \") \n"
   ]
  },
  {
   "cell_type": "code",
   "execution_count": 9,
   "metadata": {},
   "outputs": [
    {
     "name": "stdout",
     "output_type": "stream",
     "text": [
      "7\n",
      "4\n",
      "1\n"
     ]
    }
   ],
   "source": [
    "# python code to demonstrate working of reversed() \n",
    "\n",
    "# using reversed() to print in reverse order \n",
    "for i in reversed(range(1, 10, 3)): \n",
    "\tprint (i) \n"
   ]
  },
  {
   "cell_type": "code",
   "execution_count": null,
   "metadata": {},
   "outputs": [],
   "source": [
    "    #################  Advantage of using above techniques over for, while loop   ###############\n",
    "    \n",
    " =>  These techniques are quick to use and reduces coding effort. for, while loops needs the entire structure \n",
    "        of container to be changed.\n",
    "\n",
    " =>  These Looping techniques  do not require any structural changes to container. \n",
    "\n",
    " =>  They have keywords which present the exact purpose of usage.\n",
    "      Whereas, no pre-predictions or guesses can be made in for, while loop i.e not easily understandable \n",
    "          the purpose at a glance.\n",
    "\n",
    " =>  Looping technique make the code more concise than using for, while loopings."
   ]
  },
  {
   "cell_type": "code",
   "execution_count": null,
   "metadata": {},
   "outputs": [],
   "source": [
    "     ############    #######   Chaining comparison operators in Python    ##########    ################\n",
    "    \n",
    " =>  Checking more than two conditions is very common in Programming Languages.\n",
    "\n",
    "          >>>  a < b < c\n",
    "   \n",
    " =>  Most common syntax to do it is as follows:\n",
    "\n",
    "          >>>  if a < b and b < c :\n",
    "                  {...}\n",
    "            \n",
    " =>  In Python, there is a better way to write this using Comparison operator Chaining. \n",
    "      \n",
    "          >>>  if a < b < c :\n",
    "                   {.....}\n",
    "                \n",
    " =>  According to associativity and precedence in Python, all comparison operations in Python have the same \n",
    "        priority, which is lower than that of any arithmetic, shifting or bitwise operation. "
   ]
  },
  {
   "cell_type": "markdown",
   "metadata": {},
   "source": [
    "<img src=\"images/comp-operators.png\">"
   ]
  },
  {
   "cell_type": "code",
   "execution_count": 12,
   "metadata": {},
   "outputs": [
    {
     "name": "stdout",
     "output_type": "stream",
     "text": [
      "True\n",
      "False\n",
      "True\n",
      "True\n",
      "True\n"
     ]
    }
   ],
   "source": [
    "# Python code to illustrate chaining comparison operators \n",
    "\n",
    "x = 5\n",
    "\n",
    "print(1 < x < 10) \n",
    "print(10 < x < 20 ) \n",
    "print(x < 10 < x*10 < 100) \n",
    "print(10 > x <= 9) \n",
    "print(5 == x > 4)\n"
   ]
  },
  {
   "cell_type": "code",
   "execution_count": 13,
   "metadata": {},
   "outputs": [
    {
     "name": "stdout",
     "output_type": "stream",
     "text": [
      "True\n",
      "False\n"
     ]
    }
   ],
   "source": [
    "# Python code to illustrate chaining comparison operators \n",
    "\n",
    "a, b, c, d, e, f = 0, 5, 12, 0, 15, 15\n",
    "\n",
    "exp1 = a <= b < c > d is not e is f \n",
    "exp2 = a is d > f is not c \n",
    "\n",
    "print(exp1) \n",
    "print(exp2) \n"
   ]
  },
  {
   "cell_type": "code",
   "execution_count": null,
   "metadata": {},
   "outputs": [],
   "source": [
    "  ############   ##########   Programs for printing Pyramid Pattern in python   ##########   ###########\n",
    "  \n",
    " =>  Patterns can be printed in python using simple for loops. \n",
    "    \n",
    " =>  First outer loop is used to handle number of rows and Inner nested loop is used to handle\n",
    "       the number of columns. \n",
    "    \n",
    " =>  Manipulating the print statements, different number patterns, alphabet patterns or star patterns \n",
    "      can be printed."
   ]
  },
  {
   "cell_type": "code",
   "execution_count": 15,
   "metadata": {},
   "outputs": [
    {
     "name": "stdout",
     "output_type": "stream",
     "text": [
      "* \r\n",
      "* * \r\n",
      "* * * \r\n",
      "* * * * \r\n",
      "* * * * * \r\n"
     ]
    }
   ],
   "source": [
    "       ###########    ###########   simple Pyramid Pattern   ############   #############\n",
    "    \n",
    "# Python 3.x code to demonstrate star pattern  using Loops\n",
    "\n",
    "# Function to demonstrate printing pattern \n",
    "def pypart(n): \n",
    "\t\n",
    "\t# outer loop to handle number of rows \n",
    "\t# n in this case \n",
    "\tfor i in range(0, n): \n",
    "\t\n",
    "\t\t# inner loop to handle number of columns \n",
    "\t\t# values changing acc. to outer loop \n",
    "\t\tfor j in range(0, i+1): \n",
    "\t\t\n",
    "\t\t\t# printing stars \n",
    "\t\t\tprint(\"* \",end=\"\") \n",
    "\t\n",
    "\t\t# ending line after each row \n",
    "\t\tprint(\"\\r\") \n",
    "\n",
    "# Driver Code \n",
    "n = 5\n",
    "pypart(n) \n"
   ]
  },
  {
   "cell_type": "code",
   "execution_count": 16,
   "metadata": {},
   "outputs": [
    {
     "name": "stdout",
     "output_type": "stream",
     "text": [
      "*\n",
      "**\n",
      "***\n",
      "****\n",
      "*****\n"
     ]
    }
   ],
   "source": [
    "# Python 3.x code to demonstrate star pattern using Lists\n",
    "\n",
    "# Function to demonstrate printing pattern \n",
    "def pypart(n): \n",
    "\tmyList = [] \n",
    "\tfor i in range(1,n+1): \n",
    "\t\tmyList.append(\"*\"*i) \n",
    "\tprint(\"\\n\".join(myList)) \n",
    "\n",
    "# Driver Code \n",
    "n = 5\n",
    "pypart(n) \n"
   ]
  },
  {
   "cell_type": "code",
   "execution_count": 18,
   "metadata": {},
   "outputs": [
    {
     "name": "stdout",
     "output_type": "stream",
     "text": [
      "        * \r\n",
      "       * * \r\n",
      "      * * * \r\n",
      "     * * * * \r\n",
      "    * * * * * \r\n"
     ]
    }
   ],
   "source": [
    "# Python 3.x code to demonstrate star pattern for printing a tringle\n",
    "\n",
    "# Python 3.x code to demonstrate star pattern \n",
    "\n",
    "# Function to demonstrate printing pattern triangle \n",
    "def triangle(n): \n",
    "\t\n",
    "\t# number of spaces \n",
    "\tk = 2*n - 2\n",
    "\n",
    "\t# outer loop to handle number of rows \n",
    "\tfor i in range(0, n): \n",
    "\t\n",
    "\t\t# inner loop to handle number spaces \n",
    "\t\t# values changing acc. to requirement \n",
    "\t\tfor j in range(0, k): \n",
    "\t\t\tprint(end=\" \") \n",
    "\t\n",
    "\t\t# decrementing k after each loop \n",
    "\t\tk = k - 1\n",
    "\t\n",
    "\t\t# inner loop to handle number of columns \n",
    "\t\t# values changing acc. to outer loop \n",
    "\t\tfor j in range(0, i+1): \n",
    "\t\t\n",
    "\t\t\t# printing stars \n",
    "\t\t\tprint(\"* \", end=\"\") \n",
    "\t\n",
    "\t\t# ending line after each row \n",
    "\t\tprint(\"\\r\") \n",
    "\n",
    "# Driver Code \n",
    "n = 5\n",
    "triangle(n) \n",
    "\n"
   ]
  },
  {
   "cell_type": "code",
   "execution_count": 19,
   "metadata": {},
   "outputs": [
    {
     "name": "stdout",
     "output_type": "stream",
     "text": [
      "1 \r\n",
      "1 2 \r\n",
      "1 2 3 \r\n",
      "1 2 3 4 \r\n",
      "1 2 3 4 5 \r\n"
     ]
    }
   ],
   "source": [
    "# Python 3.x code to demonstrate star pattern \n",
    "\n",
    "# Function to demonstrate printing pattern of numbers \n",
    "def numpat(n): \n",
    "\t\n",
    "\t# initialising starting number \n",
    "\tnum = 1\n",
    "\n",
    "\t# outer loop to handle number of rows \n",
    "\tfor i in range(0, n): \n",
    "\t\n",
    "\t\t# re assigning num \n",
    "\t\tnum = 1\n",
    "\t\n",
    "\t\t# inner loop to handle number of columns \n",
    "\t\t\t# values changing acc. to outer loop \n",
    "\t\tfor j in range(0, i+1): \n",
    "\t\t\n",
    "\t\t\t\t# printing number \n",
    "\t\t\tprint(num, end=\" \") \n",
    "\t\t\n",
    "\t\t\t# incrementing number at each column \n",
    "\t\t\tnum = num + 1\n",
    "\t\n",
    "\t\t# ending line after each row \n",
    "\t\tprint(\"\\r\") \n",
    "\n",
    "# Driver code \n",
    "n = 5\n",
    "numpat(n) \n"
   ]
  },
  {
   "cell_type": "code",
   "execution_count": 20,
   "metadata": {},
   "outputs": [
    {
     "name": "stdout",
     "output_type": "stream",
     "text": [
      "1 \r\n",
      "2 3 \r\n",
      "4 5 6 \r\n",
      "7 8 9 10 \r\n",
      "11 12 13 14 15 \r\n"
     ]
    }
   ],
   "source": [
    "# Python 3.x code to demonstrate star pattern \n",
    "\n",
    "# Function to demonstrate printing pattern of numbers \n",
    "def contnum(n): \n",
    "\t\n",
    "\t# initializing starting number \n",
    "\tnum = 1\n",
    "\n",
    "\t# outer loop to handle number of rows \n",
    "\tfor i in range(0, n): \n",
    "\t\n",
    "\t\t# not re assigning num \n",
    "\t\t# num = 1 \n",
    "\t\n",
    "\t\t# inner loop to handle number of columns \n",
    "\t\t# values changing acc. to outer loop \n",
    "\t\tfor j in range(0, i+1): \n",
    "\t\t\n",
    "\t\t\t# printing number \n",
    "\t\t\tprint(num, end=\" \") \n",
    "\t\t\n",
    "\t\t\t# incrementing number at each column \n",
    "\t\t\tnum = num + 1\n",
    "\t\n",
    "\t\t# ending line after each row \n",
    "\t\tprint(\"\\r\") \n",
    "\n",
    "n = 5\n",
    "\n",
    "# sending 5 as argument \n",
    "# calling Function \n",
    "contnum(n) \n"
   ]
  },
  {
   "cell_type": "code",
   "execution_count": 21,
   "metadata": {},
   "outputs": [
    {
     "name": "stdout",
     "output_type": "stream",
     "text": [
      "A \r\n",
      "B B \r\n",
      "C C C \r\n",
      "D D D D \r\n",
      "E E E E E \r\n"
     ]
    }
   ],
   "source": [
    "# Python 3.x code to demonstrate star pattern \n",
    "\n",
    "# Function to demonstrate printing pattern of alphabets \n",
    "def alphapat(n): \n",
    "\t\n",
    "\t# initializing value corresponding to 'A' \n",
    "\t# ASCII value \n",
    "\tnum = 65\n",
    "\n",
    "\t# outer loop to handle number of rows \n",
    "\t# 5 in this case \n",
    "\tfor i in range(0, n): \n",
    "\t\n",
    "\t\t# inner loop to handle number of columns \n",
    "\t\t# values changing acc. to outer loop \n",
    "\t\tfor j in range(0, i+1): \n",
    "\t\t\n",
    "\t\t\t# explicitely converting to char \n",
    "\t\t\tch = chr(num) \n",
    "\t\t\n",
    "\t\t\t# printing char value \n",
    "\t\t\tprint(ch, end=\" \") \n",
    "\t\n",
    "\t\t# incrementing number \n",
    "\t\tnum = num + 1\n",
    "\t\n",
    "\t\t# ending line after each row \n",
    "\t\tprint(\"\\r\") \n",
    "\n",
    "# Driver Code \n",
    "n = 5\n",
    "alphapat(n) \n"
   ]
  },
  {
   "cell_type": "code",
   "execution_count": null,
   "metadata": {},
   "outputs": [],
   "source": [
    "#########   ########    Using else conditional statement with for loop in python   ###########   #############\n",
    "\n",
    " =>  In most of the programming languages (C/C++, Java, etc), the use of else statement has been restricted \n",
    "       with the if conditional statements. \n",
    "        \n",
    " =>  But Python allows us to use the else condition with for loops.\n",
    "\n",
    " =>  The else block just after for/while is executed only when the loop is NOT terminated by a break statement.\n",
    "    \n",
    " =>  Such type of else is useful only if there is an if condition present inside the loop which somehow\n",
    "        depends on the loop variable."
   ]
  },
  {
   "cell_type": "code",
   "execution_count": 28,
   "metadata": {},
   "outputs": [
    {
     "name": "stdout",
     "output_type": "stream",
     "text": [
      "1\n",
      "2\n",
      "3\n",
      "No Break\n"
     ]
    }
   ],
   "source": [
    "for i in range(1, 4): \n",
    "\tprint(i) \n",
    "else: # Executed because no break in for \n",
    "\tprint(\"No Break\") \n"
   ]
  },
  {
   "cell_type": "code",
   "execution_count": 29,
   "metadata": {},
   "outputs": [
    {
     "name": "stdout",
     "output_type": "stream",
     "text": [
      "1\n"
     ]
    }
   ],
   "source": [
    "for i in range(1, 4): \n",
    "\tprint(i) \n",
    "\tbreak\n",
    "else: # Not executed as there is a break \n",
    "\tprint(\"No Break\") \n"
   ]
  },
  {
   "cell_type": "code",
   "execution_count": null,
   "metadata": {},
   "outputs": [],
   "source": [
    " =>  In the following example, the else statement will only be executed if no element of the array is even,\n",
    "       i.e. if statement has not been executed for any iteration. \n",
    "        \n",
    " =>  Therefore for the array [1, 9, 8] the if is executed in third iteration of the loop and hence the else \n",
    "       present after the for loop is ignored.\n",
    "    \n",
    " =>  In case of array [1, 3, 5] the if is not executed for any iteration and hence the else after the loop is\n",
    "       executed."
   ]
  },
  {
   "cell_type": "code",
   "execution_count": 30,
   "metadata": {},
   "outputs": [
    {
     "name": "stdout",
     "output_type": "stream",
     "text": [
      "For List 1:\n",
      "list contains an even number\n",
      " \n",
      "For List 2:\n",
      "list does not contain an even number\n"
     ]
    }
   ],
   "source": [
    "# Python 3.x program to check if an array consists \n",
    "# of even number \n",
    "def contains_even_number(l): \n",
    "\tfor ele in l: \n",
    "\t\tif ele % 2 == 0: \n",
    "\t\t\tprint (\"list contains an even number\") \n",
    "\t\t\tbreak\n",
    "\n",
    "\t# This else executes only if break is NEVER \n",
    "\t# reached and loop terminated after all iterations. \n",
    "\telse:\t \n",
    "\t\tprint (\"list does not contain an even number\") \n",
    "\n",
    "# Driver code \n",
    "print (\"For List 1:\") \n",
    "contains_even_number([1, 9, 8]) \n",
    "print (\" \\nFor List 2:\") \n",
    "contains_even_number([1, 3, 5]) \n"
   ]
  },
  {
   "cell_type": "code",
   "execution_count": 31,
   "metadata": {},
   "outputs": [
    {
     "name": "stdout",
     "output_type": "stream",
     "text": [
      "1\n"
     ]
    }
   ],
   "source": [
    "count = 0\n",
    "while (count < 1):\t \n",
    "\tcount = count+1\n",
    "\tprint(count) \n",
    "\tbreak\n",
    "else: \n",
    "\tprint(\"No Break\") \n"
   ]
  },
  {
   "cell_type": "code",
   "execution_count": null,
   "metadata": {},
   "outputs": [],
   "source": []
  }
 ],
 "metadata": {
  "kernelspec": {
   "display_name": "Python 3",
   "language": "python",
   "name": "python3"
  },
  "language_info": {
   "codemirror_mode": {
    "name": "ipython",
    "version": 3
   },
   "file_extension": ".py",
   "mimetype": "text/x-python",
   "name": "python",
   "nbconvert_exporter": "python",
   "pygments_lexer": "ipython3",
   "version": "3.7.7"
  }
 },
 "nbformat": 4,
 "nbformat_minor": 4
}
