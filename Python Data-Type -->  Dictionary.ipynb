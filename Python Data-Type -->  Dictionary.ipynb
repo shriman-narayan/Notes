{
 "cells": [
  {
   "cell_type": "code",
   "execution_count": null,
   "metadata": {},
   "outputs": [],
   "source": [
    "  #########  ##########   ########  Dictionary   #########   #########   ###########   ############"
   ]
  },
  {
   "cell_type": "code",
   "execution_count": null,
   "metadata": {},
   "outputs": [],
   "source": [
    " =>  Dictionary in Python is an unordered collection of data values, used to store data values like a map, \n",
    "        which unlike other Data Types that hold only single value as an element, \n",
    "        \n",
    " =>  Dictionary holds key:value pair. \n",
    " =>  Key value is provided in the dictionary to make it more optimized.\n",
    "\n",
    " =>  Note – Keys in a dictionary doesn’t allows Polymorphism.\n",
    "    \n",
    " =>  In Python, a Dictionary can be created by placing sequence of elements within curly {} braces, \n",
    "        separated by ‘comma’. \n",
    "     \n",
    " =>  Dictionary holds a pair of values, one being the Key and the other corresponding pair element\n",
    "         being its Key:value. \n",
    "\n",
    " =>  Values in a dictionary can be of any datatype and can be duplicated whereas keys can’t be \n",
    "             repeated and must be immutable.\n",
    "    \n",
    " =>  Dictionary can also be created by the built-in function dict().\n",
    "         An empty dictionary can be created by just placing to curly braces{}."
   ]
  },
  {
   "cell_type": "code",
   "execution_count": 1,
   "metadata": {},
   "outputs": [
    {
     "name": "stdout",
     "output_type": "stream",
     "text": [
      "\n",
      "Dictionary with the use of Integer Keys: \n",
      "{1: 'Geeks', 2: 'For', 3: 'Geeks'}\n",
      "\n",
      "Dictionary with the use of Mixed Keys: \n",
      "{'Name': 'Geeks', 1: [1, 2, 3, 4]}\n",
      "\n",
      "\n",
      "Empty Dictionary: \n",
      "{}\n",
      "\n",
      "Dictionary with the use of dict(): \n",
      "{1: 'Geeks', 2: 'For', 3: 'Geeks'}\n",
      "\n",
      "Dictionary with each item as a pair: \n",
      "{1: 'Geeks', 2: 'For'}\n"
     ]
    }
   ],
   "source": [
    "# Python program to show the creation of a Dictionary with Integer Keys \n",
    "\n",
    "Dict1 = {1: 'Geeks', 2: 'For', 3: 'Geeks'} \n",
    "print(\"\\nDictionary with the use of Integer Keys: \") \n",
    "print(Dict1) \n",
    "\n",
    "# Creating a Dictionary \n",
    "# with Mixed keys \n",
    "Dict2 = {'Name': 'Geeks', 1: [1, 2, 3, 4]} \n",
    "print(\"\\nDictionary with the use of Mixed Keys: \") \n",
    "print(Dict2) \n",
    "\n",
    "\n",
    "print(\"\\n\")\n",
    "\n",
    "# Creating an empty Dictionary \n",
    "Dict3 = {} \n",
    "print(\"Empty Dictionary: \") \n",
    "print(Dict3)\n",
    "\n",
    "# Creating a Dictionary \n",
    "# with dict() method \n",
    "Dict4 = dict({1: 'Geeks', 2: 'For', 3:'Geeks'}) \n",
    "print(\"\\nDictionary with the use of dict(): \") \n",
    "print(Dict4) \n",
    "\n",
    "# Creating a Dictionary \n",
    "# with each item as a Pair \n",
    "Dict5 = dict([(1, 'Geeks'), (2, 'For')]) \n",
    "print(\"\\nDictionary with each item as a pair: \") \n",
    "print(Dict5) \n",
    "\n"
   ]
  },
  {
   "cell_type": "code",
   "execution_count": null,
   "metadata": {},
   "outputs": [],
   "source": [
    "#               #       Adding Key:values to dictionary         #             #"
   ]
  },
  {
   "cell_type": "code",
   "execution_count": 2,
   "metadata": {},
   "outputs": [
    {
     "name": "stdout",
     "output_type": "stream",
     "text": [
      "Empty Dictionary: \n",
      "{}\n",
      "\n",
      "\n",
      "\n",
      "Dictionary after adding 3 elements: \n",
      "{0: 'Geeks', 2: 'For', 3: 1}\n",
      "\n",
      "\n",
      " The dictionary after adding a new key is -->  {0: 'Geeks', 2: 'For', 3: 1, 'numbers': (1, 2, 3, 4)}\n",
      "\n",
      "\n",
      "{0: 'string', 2: 'For', 3: 1, 'numbers': (2, 3, 4, 5)}\n",
      "\n",
      "\n"
     ]
    }
   ],
   "source": [
    "# Creating an empty Dictionary \n",
    "Dict = {} \n",
    "print(\"Empty Dictionary: \") \n",
    "print(Dict)\n",
    "\n",
    "print(\"\\n\")\n",
    "\n",
    "# Adding elements one at a time \n",
    "Dict[0] = 'Geeks'\n",
    "Dict[2] = 'For'\n",
    "Dict[3] = 1\n",
    "print(\"\\nDictionary after adding 3 elements: \") \n",
    "print(Dict) \n",
    "print(\"\\n\")\n",
    "\n",
    "# Adding multiple values to a single key...\n",
    "Dict['numbers'] = 1,2,3,4\n",
    "print (\" The dictionary after adding a new key is --> \", Dict)\n",
    "\n",
    "print('\\n')\n",
    "\n",
    "# updating a key's value\n",
    "Dict[0] = 'string'                  # updating a single key's value\n",
    "Dict['numbers'] = 2, 3, 4, 5        # updating multiple values of a key at a time\n",
    "print(Dict)\n",
    "\n",
    "print(\"\\n\")\n",
    "\n",
    "  \n"
   ]
  },
  {
   "cell_type": "code",
   "execution_count": null,
   "metadata": {},
   "outputs": [],
   "source": [
    "#          #      Accessing the key:values of a dictionary         #          #\n",
    "\n",
    "=>  To access the items of a dictionary refer to its key name.\n",
    "        Key can be used inside square brackets.\n",
    "     e.g.,  print(Dict[key]) \n",
    "        \n",
    " =>  There is also a method called get() that will also help in acessing the element from a dictionary."
   ]
  },
  {
   "cell_type": "code",
   "execution_count": 3,
   "metadata": {},
   "outputs": [
    {
     "name": "stdout",
     "output_type": "stream",
     "text": [
      "Geeks\n",
      "\n",
      "\n",
      "Accessing a element using get:\n",
      "Geeks\n"
     ]
    }
   ],
   "source": [
    "#  python oprogram to access the key:values of Dictionary\n",
    "\n",
    "# Creating a Dictionary \n",
    "Dict = {1: 'Geeks', 'name': 'For', 3: 'Geeks'} \n",
    "\n",
    "# Accessing using keys\n",
    "print(Dict[1])\n",
    "print('\\n')\n",
    "\n",
    "# accessing a element using get() method \n",
    "print(\"Accessing a element using get:\") \n",
    "print(Dict.get(3)) \n"
   ]
  },
  {
   "cell_type": "code",
   "execution_count": null,
   "metadata": {},
   "outputs": [],
   "source": [
    "#           #           Nested Dictionary  in Python           #               #\n",
    "\n",
    " =>  A nested dictionary is a dictionary inside a dictionary. \n",
    "     It's a collection of dictionaries into one single dictionary.\n",
    "        \n",
    "        nested_dict = { 'dictA': {'key_1': 'value_1'},\n",
    "                'dictB': {'key_2': 'value_2'}}\n",
    "        \n",
    " =>  This nested_dict is a nested dictionary with the dictionary dictA and dictB. \n",
    "         They are two dictionary each having own key and value.\n",
    "\n",
    " =>  Nested dictionary is an unordered collection of dictionary.\n",
    " \n",
    " =>  Slicing Nested Dictionary is not possible.\n",
    "\n",
    " =>  We can shrink or grow nested dictionary as need.\n",
    " \n",
    " =>  Like Dictionary, it also has key and values and are accessed using keys."
   ]
  },
  {
   "cell_type": "markdown",
   "metadata": {},
   "source": [
    "<img src=\"images/nested-dictionary.png\">"
   ]
  },
  {
   "cell_type": "code",
   "execution_count": 4,
   "metadata": {},
   "outputs": [
    {
     "name": "stdout",
     "output_type": "stream",
     "text": [
      "{1: {'name': 'John', 'age': '27', 'sex': 'Male'}, 2: {'name': 'Marie', 'age': '22', 'sex': 'Female'}}\n"
     ]
    }
   ],
   "source": [
    "#  Python propgram to create a nested Dictionary\n",
    "\n",
    "people = {1: {'name': 'John', 'age': '27', 'sex': 'Male'},\n",
    "          2: {'name': 'Marie', 'age': '22', 'sex': 'Female'}}\n",
    "\n",
    "print(people)"
   ]
  },
  {
   "cell_type": "code",
   "execution_count": 5,
   "metadata": {},
   "outputs": [
    {
     "name": "stdout",
     "output_type": "stream",
     "text": [
      "\n",
      "Adding a Nested Key: \n",
      "{1: {'name': 'John', 'age': '27', 'sex': 'Male'}, 2: {'name': 'Marie', 'age': '22', 'sex': 'Female'}, 3: {'Nested': {'1': 'Life', '2': 'Geeks'}}}\n",
      "\n",
      "\n",
      "{'name': 'John', 'age': '27', 'sex': 'Male'}\n",
      "John\n",
      "Geeks\n"
     ]
    }
   ],
   "source": [
    "# Python program to show accessing and indexing the key:values of a nested dictionary...\n",
    "\n",
    "# Adding Nested Key value to Dictionary \n",
    "people[3] = {'Nested' :{'1' : 'Life', '2' : 'Geeks'}} \n",
    "print(\"\\nAdding a Nested Key: \") \n",
    "print(people) \n",
    "\n",
    "print(\"\\n\")\n",
    "\n",
    "\n",
    "# Accessing element using key \n",
    "print(people[1])\n",
    "print(people[1]['name'])\n",
    "print(people[3]['Nested']['2'])"
   ]
  },
  {
   "cell_type": "code",
   "execution_count": null,
   "metadata": {},
   "outputs": [],
   "source": [
    "#  Python program to using 'del' keyword to deleting the key:values\n",
    "\n",
    " =>  'del' keyword is used to delete the key:values of a dictionary.\n",
    " =>  'del' keyword is also used to delete the key:values of a nested dictionary...\n",
    "\n",
    " =>  Note- del Dict will delete the entire dictionary and hence printing it after deletion will raise an Error."
   ]
  },
  {
   "cell_type": "code",
   "execution_count": 7,
   "metadata": {},
   "outputs": [
    {
     "name": "stdout",
     "output_type": "stream",
     "text": [
      "Initial Dictionary: \n",
      "{5: 'Welcome', 6: 'To', 7: 'Geeks', 'A': {1: 'Geeks', 2: 'For', 3: 'Geeks'}, 'B': {1: 'Geeks', 2: 'Life'}}\n",
      "\n",
      "Deleting a specific key: \n",
      "{5: 'Welcome', 7: 'Geeks', 'A': {1: 'Geeks', 2: 'For', 3: 'Geeks'}, 'B': {1: 'Geeks', 2: 'Life'}}\n",
      "\n",
      "Deleting a key from Nested Dictionary: \n",
      "{5: 'Welcome', 7: 'Geeks', 'A': {1: 'Geeks', 3: 'Geeks'}, 'B': {1: 'Geeks', 2: 'Life'}}\n"
     ]
    }
   ],
   "source": [
    "# Initial Dictionary \n",
    "Dict = { 5 : 'Welcome', 6 : 'To', 7 : 'Geeks', \n",
    "\t\t'A' : {1 : 'Geeks', 2 : 'For', 3 : 'Geeks'}, \n",
    "\t\t'B' : {1 : 'Geeks', 2 : 'Life'}} \n",
    "print(\"Initial Dictionary: \") \n",
    "print(Dict) \n",
    "\n",
    "# Deleting a Key value \n",
    "del Dict[6] \n",
    "print(\"\\nDeleting a specific key: \") \n",
    "print(Dict) \n",
    "\n",
    "# Deleting a Key from Nested Dictionary \n",
    "del Dict['A'][2] \n",
    "print(\"\\nDeleting a key from Nested Dictionary: \") \n",
    "print(Dict) \n",
    " \n",
    "# Deleting an entire dictionary using 'del' keyword\n",
    "del Dict\n",
    " \n",
    "# Printing the deleted dictionary\n",
    "# >>> print(Dict)    "
   ]
  },
  {
   "cell_type": "code",
   "execution_count": null,
   "metadata": {},
   "outputs": [],
   "source": [
    " #           #        Some more Dictionary built-in methods        #              #"
   ]
  },
  {
   "cell_type": "markdown",
   "metadata": {},
   "source": [
    "<img src=\"images/dict-methods.png\">"
   ]
  },
  {
   "cell_type": "code",
   "execution_count": null,
   "metadata": {},
   "outputs": [],
   "source": [
    " =>  Copy() makes a shallow copy of dictionary.\n",
    "       e.g., dict.copy()\n",
    " \n",
    " =>  clear() removes all the items from a dictionary and will return a 'None' type\n",
    "       e.g.  dict.clear()"
   ]
  },
  {
   "cell_type": "code",
   "execution_count": null,
   "metadata": {},
   "outputs": [],
   "source": [
    "     \n",
    " =>  Pop() removes the specified key and returns it's value.\n",
    " =>  if key is not present, it will raise a keyerror.\n",
    "       syntax -->  dict.pop(key)\n",
    "        \n",
    " =>  Popitem() removes the last key of a dictionary and return that key: value pair and don't takes any argument.\n",
    "       If dictionary is empty, it will raise an error.\n",
    "       syntax -->  dict.popitem()"
   ]
  },
  {
   "cell_type": "code",
   "execution_count": null,
   "metadata": {},
   "outputs": [],
   "source": [
    " =>  get() is used to return the value of specified key.\n",
    "      if that specified key is not in the dictionary, it will return a default 'None' type value.\n",
    "       syntax -->  dict.get(key)"
   ]
  },
  {
   "cell_type": "code",
   "execution_count": null,
   "metadata": {},
   "outputs": [],
   "source": [
    " =>  dict.values() is used to return a list of all the values of dictionary. \n",
    "         syntax -->  dict.values()"
   ]
  },
  {
   "cell_type": "code",
   "execution_count": null,
   "metadata": {},
   "outputs": [],
   "source": [
    " => str(dict) is used to transform a dictionary into string."
   ]
  },
  {
   "cell_type": "code",
   "execution_count": 8,
   "metadata": {
    "scrolled": true
   },
   "outputs": [
    {
     "data": {
      "text/plain": [
       "\"{1: {'name': 'John', 'age': '27', 'sex': 'Male'}, 2: {'name': 'Marie', 'age': '22', 'sex': 'Female'}}\""
      ]
     },
     "execution_count": 8,
     "metadata": {},
     "output_type": "execute_result"
    }
   ],
   "source": [
    "dict = {1: {'name': 'John', 'age': '27', 'sex': 'Male'},\n",
    "          2: {'name': 'Marie', 'age': '22', 'sex': 'Female'}}\n",
    "\n",
    "str(dict)"
   ]
  },
  {
   "cell_type": "code",
   "execution_count": null,
   "metadata": {},
   "outputs": [],
   "source": [
    " =>  dict.keys() is used to return a list of all keys of dictionaries.\n",
    "        syntax -->  dict.keys()\n",
    "    \n",
    " =>  dict.has_key() has been removed in python 3.x.\n",
    " =>  for checking a key exists in dictionary  -->  >>> 'key' in dict --->  True / False\n",
    "    \n",
    " => dict.values(dict1) is used to return a list of all key's values of dict1.\n",
    "    \n",
    " =>  dict.items() is used to return all items (key: value) in tuple pairs.\n",
    "        syntax -->   dict.items()\n",
    "    \n",
    " =>  dict.fromkeys('key', value) is used to create a new dictionary from key as an iterable and value.\n",
    "\n",
    " =>  cmp() has been removed in python 3.x  .\n",
    "    \n",
    " =>  dict1.update(dict2) is used to add all the items(key: values) from dict2 in dict1."
   ]
  },
  {
   "cell_type": "code",
   "execution_count": null,
   "metadata": {},
   "outputs": [],
   "source": [
    " =>  dict.setdefault(key) works in 2 way....\n",
    "    \n",
    "     *  If key is already in dictionary ==>  This will return that key's value\n",
    "     *  If key is not in dictionary  ==>     This will add that key with a default value 'None' in dictionary."
   ]
  },
  {
   "cell_type": "markdown",
   "metadata": {},
   "source": [
    "[For Python Documentation Over Dictionaries, CLICK HERE](https://docs.python.org/3/tutorial/datastructures.html#dictionaries)"
   ]
  }
 ],
 "metadata": {
  "kernelspec": {
   "display_name": "Python 3",
   "language": "python",
   "name": "python3"
  },
  "language_info": {
   "codemirror_mode": {
    "name": "ipython",
    "version": 3
   },
   "file_extension": ".py",
   "mimetype": "text/x-python",
   "name": "python",
   "nbconvert_exporter": "python",
   "pygments_lexer": "ipython3",
   "version": "3.7.7"
  }
 },
 "nbformat": 4,
 "nbformat_minor": 4
}
