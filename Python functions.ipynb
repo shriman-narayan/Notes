{
 "cells": [
  {
   "cell_type": "code",
   "execution_count": null,
   "metadata": {},
   "outputs": [],
   "source": [
    "       #############    ############   Python functions    #############     #############\n",
    "    \n",
    " =>  A function is a set of statements that take inputs, do some specific computation and produces output. \n",
    "\n",
    " =>  The idea is to put some commonly or repeatedly done task together and make a function, so that instead of \n",
    "       writing the same code again and again for different inputs, we can call the function.\n",
    "\n",
    " =>  Python provides built-in functions like print(), etc. but we can also create your own functions. \n",
    "      These functions are called user-defined functions.\n"
   ]
  },
  {
   "cell_type": "code",
   "execution_count": null,
   "metadata": {},
   "outputs": [],
   "source": [
    "# A simple Python function to check whether x is even or odd \n",
    "\n",
    "def testevenOdd( x ): \n",
    "\tif (x % 2 == 0): \n",
    "\t\tprint (\"even\")\n",
    "\telse: \n",
    "\t\tprint (\"odd\")\n",
    "\n",
    "# Driver code \n",
    "testevenOdd(2) \n",
    "testevenOdd(3) \n"
   ]
  },
  {
   "cell_type": "code",
   "execution_count": null,
   "metadata": {},
   "outputs": [],
   "source": [
    " =>  In Python, every variable name is a reference. \n",
    "    \n",
    " =>  When we pass a variable to a function, a new reference to the object is created.\n",
    "\n",
    " =>  When we pass a reference and change the received reference to something else, \n",
    "       the connection between passed and received parameter is broken. \n",
    "    \n",
    " =>  We can modify an element of a sequence by using functions. Look below the shell 1.\n",
    "\n",
    " =>  If we try to modify the values of any variable passing through these user-defined functions, the reference link \n",
    "         gets broken and this prints the old value of variable.  Look the shell 2."
   ]
  },
  {
   "cell_type": "code",
   "execution_count": null,
   "metadata": {},
   "outputs": [],
   "source": [
    "def test(x):\n",
    "    x[0] = (1, 2)\n",
    "    \n",
    "# driver code\n",
    "list = [5, 2, 1, 5]\n",
    "\n",
    "test(list)\n",
    "print(list)"
   ]
  },
  {
   "cell_type": "code",
   "execution_count": null,
   "metadata": {},
   "outputs": [],
   "source": [
    "# Another example to demonstrate that reference link is broken if we assign a new value \n",
    "\n",
    "def myFun(x):\n",
    "    x = 20\n",
    "\n",
    "# Driver Code (Note that lst is not modified \n",
    "# after function call. \n",
    "x = 10\n",
    "myFun(x); \n",
    "print(x) \n"
   ]
  },
  {
   "cell_type": "code",
   "execution_count": null,
   "metadata": {},
   "outputs": [],
   "source": [
    "    ###############    #############    default Arguments in Python   #############    ##############\n",
    "    \n",
    " =>  A default argument is a parameter that assumes a default value if a value is not provided in the \n",
    "       function call for that argument.\n",
    "    \n",
    " =>  Any number of arguments in a function can have a default value. But once we have a default argument,\n",
    "        all the arguments to its right must also have default values.\n",
    "    \n",
    " =>  if there are more default values, keep them in this sequence  -->   (x, y  = 50, x = 25, p = 15)"
   ]
  },
  {
   "cell_type": "code",
   "execution_count": null,
   "metadata": {},
   "outputs": [],
   "source": [
    "# Python program to demonstrate \n",
    "# default arguments \n",
    "def myFun(x, y=50): \n",
    "\tprint(\"x: \", x) \n",
    "\tprint(\"y: \", y) \n",
    "\n",
    "# Driver code (We call myFun() with only \n",
    "# argument) \n",
    "myFun(10) \n"
   ]
  },
  {
   "cell_type": "code",
   "execution_count": null,
   "metadata": {},
   "outputs": [],
   "source": [
    "       ############    #############   Keyword arguments   ############    #############   ############\n",
    "    \n",
    " =>  The idea is to allow caller to specify argument name with values so that caller does not need to \n",
    "       remember order of parameters."
   ]
  },
  {
   "cell_type": "code",
   "execution_count": null,
   "metadata": {},
   "outputs": [],
   "source": [
    " # Python program to demonstrate Keyword Arguments \n",
    "\n",
    "def student(firstname, lastname):\n",
    "    print(firstname, lastname) \n",
    "\n",
    "    \n",
    "# Keyword arguments\n",
    "student(firstname ='Geeks', lastname ='Practice')\t \n",
    "student(lastname ='Practice', firstname ='Geeks') \n"
   ]
  },
  {
   "cell_type": "code",
   "execution_count": null,
   "metadata": {},
   "outputs": [],
   "source": [
    "      #############    ###########    Variable - Length Argument    ############    ###########\n",
    "    \n",
    " =>  We can have both normal and keyword variable number of arguments. \n",
    "\n",
    " =>  *arg ->  This uses a for loop to iterate in a container argv with variable arg inside a function.\n",
    "    \n",
    " =>  **kwargs ->  This uses a for loop to iterate to  variable number of key-value pairs in a dictionary."
   ]
  },
  {
   "cell_type": "code",
   "execution_count": null,
   "metadata": {},
   "outputs": [],
   "source": [
    "# Python program to illustrate  *args for variable number of arguments \n",
    "\n",
    "def myFun(*argv): \n",
    "\tfor arg in argv: \n",
    "\t\tprint (arg) \n",
    "\t\n",
    "myFun('Hello', 'Welcome', 'to', 'GeeksforGeeks') \n"
   ]
  },
  {
   "cell_type": "code",
   "execution_count": null,
   "metadata": {},
   "outputs": [],
   "source": [
    "# Python program to illustrate \n",
    "# *kwargs for variable number of keyword arguments \n",
    "\n",
    "def myFun(**kwargs): \n",
    "\tfor key, value in kwargs.items(): \n",
    "\t\tprint (\"%s == %s\" %(key, value)) \n",
    "\n",
    "# Driver code \n",
    "myFun(first ='Geeks', mid ='for', last='Geeks')\t \n"
   ]
  },
  {
   "cell_type": "code",
   "execution_count": null,
   "metadata": {},
   "outputs": [],
   "source": [
    "       ##############   ############   Anonymous functions    ###########   ##############\n",
    "    \n",
    " =>  In Python, Anonymous function means that a function is without a name. \n",
    "\n",
    " =>  As we already know that def keyword is used to define the normal functions. \n",
    "    \n",
    " =>  Similarly, lambda keyword is used to create anonymous functions.\n",
    "\n",
    " =>  syntax : \n",
    "        \n",
    "            >>>  lambda arguments: expression\n",
    "            \n",
    " =>  This function can have any number of arguments but only one expression, which is evaluated and returned.\n",
    "\n",
    " =>  One is free to use lambda functions wherever function objects are required.\n",
    "\n",
    " =>  You need to keep in your knowledge that lambda functions are syntactically restricted to a single expression.\n",
    "\n",
    " =>  It has various uses in particular fields of programming besides other types of expressions in functions."
   ]
  },
  {
   "cell_type": "code",
   "execution_count": null,
   "metadata": {},
   "outputs": [],
   "source": [
    "# Python code to illustrate cube of a number \n",
    "# using labmda function \n",
    "\n",
    "cube = lambda x: x*x*x \n",
    "\n",
    "print(cube(7)) \n"
   ]
  },
  {
   "cell_type": "code",
   "execution_count": null,
   "metadata": {},
   "outputs": [],
   "source": [
    "#     ###########    ##########   Normal functions vs Anonymous functions   #############    #############\n",
    "\n",
    "# Python code to illustrate cube of a number showing difference between def() and lambda(). \n",
    "\n",
    "def cube(y):                                    #  Normal function with 'def' keyword\n",
    "\treturn y*y*y; \n",
    "\n",
    "cube_with_lambda = lambda x: x*x*x              #  Anonymous function with 'lambda' keyword\n",
    "\n",
    "print(cube_with_lambda(7)) \n",
    "\n",
    "print(cube(5)) \n"
   ]
  },
  {
   "cell_type": "code",
   "execution_count": null,
   "metadata": {},
   "outputs": [],
   "source": [
    "#     ###########    ##########   Normal functions vs Anonymous functions   #############    #############\n",
    "\n",
    "       #############      ############    Without using Lambda    ##############    ##############\n",
    "    \n",
    " =>  Here, both of them returns the cube of a given number. But, while using def, we needed to define\n",
    "        a function with a name cube and needed to pass a value to it. \n",
    "\n",
    " =>  After execution, we also needed to return the result from where the function was called \n",
    "        using the return keyword.\n",
    "\n",
    "\n",
    " #############      ############    Using Lambda    ##############    ##############\n",
    "\n",
    " =>  Lambda functions does not include a “return” statement but always contains an expression which is returned.\n",
    "\n",
    " =>  We can also put a lambda definition anywhere a function is expected, and we don’t have to assign it\n",
    "       to a variable at all. \n",
    "        \n",
    " =>  This is the simplicity of lambda functions.\n",
    "\n",
    " =>  Lambda functions can be used along with built-in functions like filter(), map() and reduce()."
   ]
  },
  {
   "cell_type": "code",
   "execution_count": null,
   "metadata": {},
   "outputs": [],
   "source": [
    "     #############     ##############      filter()    ##############    ###############\n",
    "    \n",
    " =>  The filter function expects two arguments: function_object and an iterable. \n",
    "    \n",
    " =>  Function_Object returns a boolean value and is called for each element of the iterable. \n",
    "\n",
    " =>  filter() returns only those elements for which the function_object returns True.\n",
    "    \n",
    " =>  The filter() function also returns a list of elements.\n",
    "\n",
    " =>  The filter() function can only have one iterable as input.\n",
    "    \n",
    " =>  The filter() function in Python returns a filter object or the iterator which gets lazily evaluated.\n",
    "\n",
    " =>  We cannot access the elements of the filter object with index, nor can we use len() to find the length \n",
    "       of the filter object.\n",
    "        \n",
    " =>  Syntax ->  filter(function_object, iterable)"
   ]
  },
  {
   "cell_type": "code",
   "execution_count": null,
   "metadata": {},
   "outputs": [],
   "source": [
    "#  Python code to display the filter() function ith lambda() function\n",
    "\n",
    "list_a = [1, 2, 3, 4, 5, 6, 8, 7]\n",
    "\n",
    "filter_obj = filter(lambda x: x % 2 == 0, list_a) # filter object <filter at 0x4e45890>\n",
    "\n",
    "even_num = list(filter_obj) # Converts the filer obj to a list\n",
    "\n",
    "print(even_num) # Output: [2, 4]"
   ]
  },
  {
   "cell_type": "code",
   "execution_count": null,
   "metadata": {},
   "outputs": [],
   "source": [
    "    ##############    ##############   map() function    #############     #############     #############\n",
    "    \n",
    " =>  map() functions expect a function object and any number of iterables, such as list, dictionary, etc. \n",
    "\n",
    " =>  It executes the function_object for each element in the sequence and returns a list of the element\n",
    "       modified by the function object.\n",
    "        \n",
    " =>  Syntax ->  map(function_object, iterable1, iterable2,...) "
   ]
  },
  {
   "cell_type": "code",
   "execution_count": null,
   "metadata": {},
   "outputs": [],
   "source": [
    "#  Python code to show map() with lambda() functions\n",
    "\n",
    "def multiply(x):\n",
    "  return x * 2\n",
    "\n",
    "\n",
    "product = map(lambda x: x * 2, [1, 2, 3, 4])\n",
    "multiples = list(product)\n",
    "\n",
    "print(multiples)"
   ]
  },
  {
   "cell_type": "code",
   "execution_count": null,
   "metadata": {},
   "outputs": [],
   "source": [
    "     ##############    ################    Reduce() function    ############   ################\n",
    "\n",
    " =>  The reduce() function in Python takes in a function and a list as argument. \n",
    "\n",
    " =>  The function is called with a lambda function and a list and a new reduced result is returned. \n",
    "    \n",
    " =>  This performs a repetitive operation over the pairs of the list. \n",
    "\n",
    " =>  This is a part of functools module."
   ]
  },
  {
   "cell_type": "code",
   "execution_count": null,
   "metadata": {},
   "outputs": [],
   "source": [
    "# Python code to illustrate reduce() with lambda() to get sum of a list \n",
    "\n",
    "from functools import reduce\n",
    "\n",
    "list = [5, 8, 10, 20, 50, 100] \n",
    "\n",
    "sum = reduce((lambda x, y: x + y), list) \n",
    "\n",
    "print (sum) \n"
   ]
  },
  {
   "cell_type": "code",
   "execution_count": null,
   "metadata": {},
   "outputs": [],
   "source": [
    "    #############    ###########   Python Methods vs Python Functions    ###############     ###############\n",
    "    \n",
    " =>  Method is called by its name, but it is associated to an object (dependent).\n",
    "\n",
    " =>  A method is implicitly passed the object on which it is invoked.\n",
    "\n",
    " =>  It may or may not return any data.\n",
    "\n",
    " =>  A method can operate on the data (instance variables) that is contained by the corresponding class."
   ]
  },
  {
   "cell_type": "code",
   "execution_count": null,
   "metadata": {},
   "outputs": [],
   "source": [
    "   #############   ##############   Basic Python method structure   ##############    ##############\n",
    "\n",
    "class class_name \n",
    "\tdef method_name () : \n",
    "\t\t...... \n",
    "\t\t# method body \n",
    "\t\t...... \n"
   ]
  },
  {
   "cell_type": "code",
   "execution_count": null,
   "metadata": {},
   "outputs": [],
   "source": [
    "# Python 3 User-Defined Method \n",
    "\n",
    "class ABC : \n",
    "\tdef method_abc (self): \n",
    "\t\tprint(\"I am in method_abc of ABC class. \") \n",
    "\n",
    "class_ref = ABC() # object of ABC class \n",
    "class_ref.method_abc() \n"
   ]
  },
  {
   "cell_type": "code",
   "execution_count": null,
   "metadata": {},
   "outputs": [],
   "source": [
    "#  Python3 In-built method\n",
    "\n",
    "import math \n",
    "\n",
    "ceil_val = math.ceil(15.25) \n",
    "print( \"Ceiling value of 15.25 is : \", ceil_val) \n"
   ]
  },
  {
   "cell_type": "code",
   "execution_count": null,
   "metadata": {},
   "outputs": [],
   "source": [
    " =>  Function is block of code that is also called by its name. (independent).\n",
    "    \n",
    " =>  The function can have different parameters or may not have any at all. If any data (parameters) are passed, they are passed explicitly.\n",
    "\n",
    " =>  It may or may not return any data.\n",
    "\n",
    " =>  Function does not deal with Class and its instance concept."
   ]
  },
  {
   "cell_type": "code",
   "execution_count": null,
   "metadata": {},
   "outputs": [],
   "source": [
    "# Basic Function structure\n",
    "\n",
    "def function_name ( arg1, arg2, ...) : \n",
    "\t...... \n",
    "\t# function body \n",
    "\t...... \n"
   ]
  },
  {
   "cell_type": "code",
   "execution_count": null,
   "metadata": {},
   "outputs": [],
   "source": [
    "# Python3 user-defined function\n",
    "\n",
    "def Subtract (a, b): \n",
    "\treturn (a-b) \n",
    "\n",
    "print( Subtract(10, 12) ) # prints -2 \n",
    "\n",
    "print( Subtract(15, 6) ) # prints 9 \n"
   ]
  },
  {
   "cell_type": "code",
   "execution_count": null,
   "metadata": {},
   "outputs": [],
   "source": [
    "#  Python in-built function\n",
    "\n",
    "s = sum([5, 15, 2]) \n",
    "print( s ) # prints 22 \n",
    "\n",
    "mx = max(15, 6) \n",
    "print( mx ) # prints 15 \n"
   ]
  },
  {
   "cell_type": "code",
   "execution_count": null,
   "metadata": {},
   "outputs": [],
   "source": [
    "       #############    ########   Differences  ###########    ##############\n",
    "\n",
    " \n",
    " =>  Simply, function and method both look similar as they perform in almost similar way,\n",
    "    \n",
    " =>  But the key difference is the concept of ‘Class and its Object‘.\n",
    "\n",
    " =>  Functions can be called only by its name, as it is defined independently.\n",
    "    \n",
    " =>  But methods can’t be called by its name only, we need to invoke the class by a reference of that class \n",
    "       in which it is defined, \n",
    "     i.e. method is defined within a class and hence they are dependent on that class."
   ]
  },
  {
   "cell_type": "code",
   "execution_count": null,
   "metadata": {},
   "outputs": [],
   "source": [
    "    ###########     ###########    How to write an empty functions in python?    ###########    ##############\n",
    "    \n",
    " =>  In C/C++ and Java, we can write empty function as following\n",
    "\n",
    "         // An empty function in C/C++/Java\n",
    "         void fun() {  }\n",
    "        \n",
    " =>  In Python, if we write something like following in Python, it would produce compiler error.\n",
    "\n",
    "         >>>  # Incorrect empty function in Python \n",
    "         >>>  def fun():  \n",
    "            \n",
    "    =>  Output -->  IndentationError: expected an indented block\n",
    "        \n",
    "        \n",
    " =>  In Python, to write empty functions, we use pass statement. \n",
    "\n",
    " =>  pass is a special statement in Python that does nothing and only works as a dummy statement."
   ]
  },
  {
   "cell_type": "code",
   "execution_count": null,
   "metadata": {},
   "outputs": [],
   "source": [
    "#  Python program to write correct empty functions\n",
    "\n",
    "def fun():  \n",
    "    pass"
   ]
  },
  {
   "cell_type": "code",
   "execution_count": null,
   "metadata": {},
   "outputs": [],
   "source": [
    " =>  We can use pass in empty while statement also.\n",
    " =>  We can use pass in empty if else statements."
   ]
  },
  {
   "cell_type": "code",
   "execution_count": null,
   "metadata": {},
   "outputs": [],
   "source": [
    "#  python program to show the use of pass statement in loops\n",
    "\n",
    "# Empty loop in Python \n",
    "\n",
    "mutex = True\n",
    "while (mutex == True) : \n",
    "    pass\n",
    "\n",
    "\n",
    "# Empty if/else in Python \n",
    "\n",
    "mutex = True\n",
    "if (mutex == True) : \n",
    "    pass\n",
    "else : \n",
    "    print(\"False\") "
   ]
  },
  {
   "cell_type": "code",
   "execution_count": null,
   "metadata": {},
   "outputs": [],
   "source": [
    "    ############     #############    Python return Statement   #############    ############    ##############\n",
    "    \n",
    " =>  A return statement is used to end the execution of the function call and “returns” the result \n",
    "      (value of the expression following the return keyword) to the caller. \n",
    "\n",
    " =>  The statements after the return statements are not executed. \n",
    "\n",
    " =>  If the return statement is without any expression, then the special value None is returned.\n",
    "\n",
    " =>  Note: Return statement can not be used outside the function.\n",
    "        \n",
    " \n",
    " =>  Syntax -->    def fun():\n",
    "                       statements\n",
    "                       .\n",
    "                       .\n",
    "                       return [expression] \n",
    "            "
   ]
  },
  {
   "cell_type": "code",
   "execution_count": 1,
   "metadata": {},
   "outputs": [
    {
     "name": "stdout",
     "output_type": "stream",
     "text": [
      "Result of add function is 5\n",
      "\n",
      "Result of is_true function is True\n"
     ]
    }
   ],
   "source": [
    "# Python program to demonstrate return statement \n",
    "\n",
    "def add(a, b): \n",
    "\n",
    "\t# returning sum of a and b \n",
    "\treturn a + b                  #  This is a return statement that returns the sum of 2 items.\n",
    "\n",
    "def is_true(a): \n",
    "\n",
    "\t# returning boolean of a \n",
    "\treturn bool(a)                #  This is a return statement that returns a Boolean value.\n",
    "\n",
    "# calling function \n",
    "res = add(2, 3) \n",
    "print(\"Result of add function is {}\".format(res)) \n",
    "\n",
    "res = is_true(2<5) \n",
    "print(\"\\nResult of is_true function is {}\".format(res)) \n"
   ]
  },
  {
   "cell_type": "code",
   "execution_count": null,
   "metadata": {},
   "outputs": [],
   "source": [
    "       ############    #############    Return Multiple Values   ###############    ################\n",
    "    \n",
    " =>  Using Object -->>  We can create a class to hold multiple values and return an object of the class.\n",
    "\n",
    " =>  Using Tuple  -->>  A Tuple is a comma separated sequence of items. It is created with or without (). \n",
    "    \n",
    " =>  Using List   -->>  A list is like an array of items created using square brackets. \n",
    "                          They are different from arrays as they can contain items of different types.\n",
    "                           Lists are different from tuples as they are mutable.\n",
    "        \n",
    " =>  Using Dictionary -->>  A Dictionary is similar to hash or map in other languages."
   ]
  },
  {
   "cell_type": "code",
   "execution_count": 2,
   "metadata": {},
   "outputs": [
    {
     "name": "stdout",
     "output_type": "stream",
     "text": [
      "geeksforgeeks\n",
      "20\n"
     ]
    }
   ],
   "source": [
    "# A Python program to return multiple values from a method using class \n",
    "\n",
    "class Test: \n",
    "\tdef __init__(self): \n",
    "\t\tself.str = \"geeksforgeeks\"\n",
    "\t\tself.x = 20\n",
    "\n",
    "# This function returns an object of Test \n",
    "def fun(): \n",
    "\treturn Test() \n",
    "\n",
    "# Driver code to test above method \n",
    "t = fun() \n",
    "print(t.str) \n",
    "print(t.x) \n"
   ]
  },
  {
   "cell_type": "code",
   "execution_count": 3,
   "metadata": {},
   "outputs": [
    {
     "name": "stdout",
     "output_type": "stream",
     "text": [
      "geeksforgeeks\n",
      "20\n"
     ]
    }
   ],
   "source": [
    "# A Python program to return multiple values from a method using tuple \n",
    "\n",
    "# This function returns a tuple \n",
    "def fun(): \n",
    "\tstr = \"geeksforgeeks\"\n",
    "\tx = 20\n",
    "\treturn str, x; # Return tuple, we could also  write (str, x) \n",
    "\n",
    "# Driver code to test above method \n",
    "str, x = fun() # Assign returned tuple \n",
    "print(str) \n",
    "print(x) \n"
   ]
  },
  {
   "cell_type": "code",
   "execution_count": 4,
   "metadata": {},
   "outputs": [
    {
     "name": "stdout",
     "output_type": "stream",
     "text": [
      "['geeksforgeeks', 20]\n"
     ]
    }
   ],
   "source": [
    "# A Python program to return multiple values from a method using list \n",
    "\n",
    "# This function returns a list \n",
    "def fun(): \n",
    "\tstr = \"geeksforgeeks\"\n",
    "\tx = 20\n",
    "\treturn [str, x]; \n",
    "\n",
    "# Driver code to test above method \n",
    "list = fun() \n",
    "print(list) \n"
   ]
  },
  {
   "cell_type": "code",
   "execution_count": 5,
   "metadata": {},
   "outputs": [
    {
     "name": "stdout",
     "output_type": "stream",
     "text": [
      "{'str': 'GeeksforGeeks', 'x': 20}\n"
     ]
    }
   ],
   "source": [
    "# A Python program to return multiple values from a method using dictionary \n",
    "\n",
    "# This function returns a dictionary \n",
    "def fun(): \n",
    "\td = dict(); \n",
    "\td['str'] = \"GeeksforGeeks\"\n",
    "\td['x'] = 20\n",
    "\treturn d \n",
    "\n",
    "# Driver code to test above method \n",
    "d = fun() \n",
    "print(d) \n"
   ]
  },
  {
   "cell_type": "code",
   "execution_count": null,
   "metadata": {},
   "outputs": [],
   "source": [
    "   #############    #############   Yield Instead of return   #############    #############    #############\n",
    "    \n",
    " =>  The yield statement suspends function’s execution and sends a value back to the caller, \n",
    "        but retains enough state to enable function to resume where it is left off. \n",
    "    \n",
    " =>  When resumed, the function continues execution immediately after the last yield run.\n",
    "\n",
    " =>  This allows its code to produce a series of values over time, rather than computing them at once and \n",
    "      sending them back like a list."
   ]
  },
  {
   "cell_type": "code",
   "execution_count": 6,
   "metadata": {},
   "outputs": [
    {
     "name": "stdout",
     "output_type": "stream",
     "text": [
      "1\n",
      "2\n",
      "3\n"
     ]
    }
   ],
   "source": [
    "# A Simple Python program to demonstrate working of yield \n",
    "\n",
    "# A generator function that yields 1 for the first time, 2 second time and 3 third time \n",
    "\n",
    "def simpleGeneratorFun(): \n",
    "\tyield 1\n",
    "\tyield 2\n",
    "\tyield 3\n",
    "\n",
    "# Driver code to check above generator function \n",
    "for value in simpleGeneratorFun(): \n",
    "\tprint(value) \n"
   ]
  },
  {
   "cell_type": "code",
   "execution_count": null,
   "metadata": {},
   "outputs": [],
   "source": [
    " =>  Return sends a specified value back to its caller whereas Yield can produce a sequence of values. \n",
    "    \n",
    " =>  We should use yield when we want to iterate over a sequence, but don’t want to store the entire sequence \n",
    "      in memory.\n",
    "    \n",
    " =>  Yield are used in Python generators. \n",
    "\n",
    " =>  A generator function is defined like a normal function, but whenever it needs to generate a value, \n",
    "      it does so with the yield keyword rather than return. \n",
    "    \n",
    " =>  If the body of a def contains yield, the function automatically becomes a generator function."
   ]
  },
  {
   "cell_type": "code",
   "execution_count": 7,
   "metadata": {},
   "outputs": [
    {
     "name": "stdout",
     "output_type": "stream",
     "text": [
      "1\n",
      "4\n",
      "9\n",
      "16\n",
      "25\n",
      "36\n",
      "49\n",
      "64\n",
      "81\n",
      "100\n"
     ]
    }
   ],
   "source": [
    "# A Python program to generate squares from 1 to 100 using yield and therefore generator \n",
    "\n",
    "# An infinite generator function that prints next square number.  It starts with 1 \n",
    "\n",
    "def nextSquare(): \n",
    "\ti = 1; \n",
    "\n",
    "\t# An Infinite loop to generate squares \n",
    "\twhile True: \n",
    "\t\tyield i*i\t\t\t\t \n",
    "\t\ti += 1 # Next execution resumes \n",
    "\t\t\t\t# from this point\t \n",
    "\n",
    "# Driver code to test above generator \n",
    "# function \n",
    "for num in nextSquare(): \n",
    "\tif num > 100: \n",
    "\t\tbreak\t\n",
    "\tprint(num) \n"
   ]
  },
  {
   "cell_type": "code",
   "execution_count": null,
   "metadata": {},
   "outputs": [],
   "source": []
  }
 ],
 "metadata": {
  "kernelspec": {
   "display_name": "Python 3",
   "language": "python",
   "name": "python3"
  },
  "language_info": {
   "codemirror_mode": {
    "name": "ipython",
    "version": 3
   },
   "file_extension": ".py",
   "mimetype": "text/x-python",
   "name": "python",
   "nbconvert_exporter": "python",
   "pygments_lexer": "ipython3",
   "version": "3.7.7"
  }
 },
 "nbformat": 4,
 "nbformat_minor": 4
}
