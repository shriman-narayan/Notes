{
 "cells": [
  {
   "cell_type": "code",
   "execution_count": null,
   "metadata": {},
   "outputs": [],
   "source": [
    "    ###############   ##########   Decision making in Python    ##############    ###############\n",
    "    \n",
    " =>  There comes situations in real life when we need to make some decisions and based on these decisions, \n",
    "       we decide what should we do next. \n",
    "     \n",
    " =>  Similar situations arises in programming also where we need to make some decisions and based on \n",
    "      these decision we will execute the next block of code.\n",
    "    \n",
    " =>  Decision making statements in programming languages decides the direction of flow of program execution.\n",
    "\n",
    " =>  There are 4 types of Decision-making statements available in Python.\n",
    "    \n",
    "         *  if statement\n",
    "         *  if ..else statement\n",
    "         *  nested-if statement\n",
    "         *  if-elif ladder"
   ]
  },
  {
   "cell_type": "code",
   "execution_count": null,
   "metadata": {},
   "outputs": [],
   "source": [
    "       ##############   ############  if statement   ###########   #################\n",
    "    \n",
    " =>  if statement is the most simple decision making statement.\n",
    "\n",
    " =>  It is used to decide whether a certain statement or block of statements will be executed or not.\n",
    "      i.e if a certain condition is true then a block of statement is executed otherwise not.\n",
    "        \n",
    "      syntax -->  if condition:\n",
    "                    # Statements to execute if\n",
    "                    # condition is true\n",
    "          \n",
    "             \n",
    " =>  Here, condition after evaluation will be either true or false. \n",
    "  \n",
    " =>  if statement accepts boolean values- True or False.\n",
    "\n",
    " =>  If the value is true then it will execute the block of statements below it otherwise not.\n",
    "    \n",
    " =>  We can use condition with bracket ‘(‘ ‘)’ also.\n",
    "\n",
    " =>  Python uses indentation to define a block of code.\n",
    "    "
   ]
  },
  {
   "cell_type": "markdown",
   "metadata": {},
   "source": [
    "<img src=\"images/if-indent.png\">"
   ]
  },
  {
   "cell_type": "markdown",
   "metadata": {},
   "source": [
    "<img src=\"images/if.png\">"
   ]
  },
  {
   "cell_type": "code",
   "execution_count": 6,
   "metadata": {},
   "outputs": [
    {
     "name": "stdout",
     "output_type": "stream",
     "text": [
      "Here condition is not satisfied, so if condition is getting a False value\n",
      "  Therefore no any statement under if statement will be executed.\n"
     ]
    }
   ],
   "source": [
    "# python program to illustrate If statement \n",
    "\n",
    "i = 10\n",
    "if (i > 15): \n",
    "    print (\"10 is less than 15\")\n",
    "    \n",
    "print (\"Here condition is not satisfied, so if condition is getting a False value\")\n",
    "print(\"  Therefore no any statement under if statement will be executed.\") \n"
   ]
  },
  {
   "cell_type": "code",
   "execution_count": null,
   "metadata": {},
   "outputs": [],
   "source": [
    "      ##############   ############  if..else statement   ###########   #################\n",
    "    \n",
    " =>  The if statement alone tells us that if a condition is true it will execute a block of statements and \n",
    "       if the condition is false it won’t. \n",
    "    \n",
    " =>  But what if we want to do something else if the condition is false. Here comes the else statement. \n",
    "\n",
    " =>  We can use the else statement with if statement to execute a block of code when the condition is false.\n",
    "    "
   ]
  },
  {
   "cell_type": "markdown",
   "metadata": {},
   "source": [
    "<img  src=\"images/if-else-syntax.png\">"
   ]
  },
  {
   "cell_type": "markdown",
   "metadata": {},
   "source": [
    "<img  src=\"images/if-else.png\">"
   ]
  },
  {
   "cell_type": "code",
   "execution_count": 8,
   "metadata": {},
   "outputs": [
    {
     "name": "stdout",
     "output_type": "stream",
     "text": [
      "i is greater than 15\n",
      "i'm in else Block\n",
      "\n",
      "\n",
      "Here condition is not satisfied, and so if statements are getting False values \n",
      "  Therefore, else statement has been executed \n"
     ]
    }
   ],
   "source": [
    "# python program to illustrate If else statement \n",
    "#!/usr/bin/python \n",
    "\n",
    "i = 20; \n",
    "if (i < 15): \n",
    "\tprint (\"i is smaller than 15\") \n",
    "\tprint (\"i'm in if Block\") \n",
    "else: \n",
    "\tprint (\"i is greater than 15\") \n",
    "\tprint (\"i'm in else Block\") \n",
    "print (\"\\n\")\n",
    "\n",
    "print (\"Here condition is not satisfied, and so if statements are getting False values \") \n",
    "print (\"  Therefore, else statement has been executed \")"
   ]
  },
  {
   "cell_type": "code",
   "execution_count": null,
   "metadata": {},
   "outputs": [],
   "source": [
    "  ##############   ############  Nested if Statements  ###########   #################\n",
    "    \n",
    " =>  A nested if is an if statement that is the target of another if statement.\n",
    "\n",
    " =>  Nested if statements means an if statement inside another if statement. \n",
    "    \n",
    " =>  Python allows us to nest if statements within if statements. \n",
    "       i.e, we can place an if statement inside another if statement."
   ]
  },
  {
   "cell_type": "markdown",
   "metadata": {},
   "source": [
    "<img src=\"images/nested-if-syntax.png\">"
   ]
  },
  {
   "cell_type": "markdown",
   "metadata": {},
   "source": [
    "<img src=\"images/nested-if.png\">"
   ]
  },
  {
   "cell_type": "code",
   "execution_count": 9,
   "metadata": {},
   "outputs": [
    {
     "name": "stdout",
     "output_type": "stream",
     "text": [
      "i is smaller than 15\n",
      " i is less than 12 too\n"
     ]
    }
   ],
   "source": [
    "# python program to illustrate nested If statement \n",
    "i = 10\n",
    "if (i == 10):\n",
    "    \n",
    "    # 1st Nested if statement\n",
    "    if (i < 15):\n",
    "        print (\"i is smaller than 15\")\n",
    "\n",
    "    # 2nd Nested if statement\n",
    "    if (i < 12):\n",
    "        print (\" i is less than 12 too\")\n",
    "\n",
    "    #else statement\n",
    "    else:\n",
    "        print (\" i is greater than 15\")"
   ]
  },
  {
   "cell_type": "code",
   "execution_count": null,
   "metadata": {},
   "outputs": [],
   "source": [
    "##############   ############  if-elif-else Ladder  ###########   #################\n",
    "  \n",
    " =>  Here, a user can decide among multiple options.\n",
    "\n",
    " =>  The if statements are executed from the top down. \n",
    "    \n",
    " =>  As soon as one of the conditions controlling the if is true, the statement associated with that \n",
    "       if is executed, and the rest of the ladder is bypassed. \n",
    "    \n",
    " =>  If none of the conditions is true, then the final else statement will be executed."
   ]
  },
  {
   "cell_type": "markdown",
   "metadata": {},
   "source": [
    "<img src=\"images/if-else-ladder-syntax.png\">"
   ]
  },
  {
   "cell_type": "markdown",
   "metadata": {},
   "source": [
    "<img src=\"images/if-else-ladder-flowchart.png\">"
   ]
  },
  {
   "cell_type": "code",
   "execution_count": 11,
   "metadata": {},
   "outputs": [
    {
     "name": "stdout",
     "output_type": "stream",
     "text": [
      "i is 20\n"
     ]
    }
   ],
   "source": [
    "# Python program to illustrate if-elif-else ladder \n",
    "#!/usr/bin/python \n",
    "\n",
    "i = 20\n",
    "\n",
    "if (i == 10): \n",
    "    print (\"i is 10\") \n",
    "\n",
    "elif (i == 15): \n",
    "    print (\"i is 15\") \n",
    "\n",
    "elif (i == 20): \n",
    "    print (\"i is 20\") \n",
    "\n",
    "else: \n",
    "    print (\"i is not present\") \n"
   ]
  },
  {
   "cell_type": "code",
   "execution_count": null,
   "metadata": {},
   "outputs": [],
   "source": []
  }
 ],
 "metadata": {
  "kernelspec": {
   "display_name": "Python 3",
   "language": "python",
   "name": "python3"
  },
  "language_info": {
   "codemirror_mode": {
    "name": "ipython",
    "version": 3
   },
   "file_extension": ".py",
   "mimetype": "text/x-python",
   "name": "python",
   "nbconvert_exporter": "python",
   "pygments_lexer": "ipython3",
   "version": "3.7.7"
  }
 },
 "nbformat": 4,
 "nbformat_minor": 4
}
