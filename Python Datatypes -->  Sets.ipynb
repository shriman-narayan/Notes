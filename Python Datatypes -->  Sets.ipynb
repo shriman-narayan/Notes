{
 "cells": [
  {
   "cell_type": "markdown",
   "metadata": {},
   "source": [
    "##########   ###########   #####   SETS   #####   ########   ############   ################    #############"
   ]
  },
  {
   "cell_type": "code",
   "execution_count": null,
   "metadata": {},
   "outputs": [],
   "source": [
    "   ##########   ###########   #####   SETS   #####   ########   ############   ################    #############\n",
    "    \n",
    " =>  Set is an unordered collection of data type that is iterable, mutable and has no duplicate elements. \n",
    "      The order of elements in a set is undefined though it may consist of various elements.\n",
    "        \n",
    " =>  Compare to Lists, Sets has a highly optimized method for checking an element's availability in it.\n"
   ]
  },
  {
   "cell_type": "code",
   "execution_count": null,
   "metadata": {},
   "outputs": [],
   "source": [
    "##########   ###########   #####  Creation of SETS   #####   ########   ############   ################    #############\n",
    "\n",
    " =>  Sets can be created by using the built-in set() function with an iterable object or \n",
    "         a sequence by placing the sequence inside curly braces, separated by ‘comma’.\n",
    "    \n",
    " =>  Note – A set cannot have mutable elements like a list, set or dictionary, as its elements.  "
   ]
  },
  {
   "cell_type": "code",
   "execution_count": null,
   "metadata": {},
   "outputs": [],
   "source": [
    "# Python program to demonstrate Creation of Set in Python \n",
    "\n",
    "# Creating a Set \n",
    "set1 = set() \n",
    "print(\"Intial blank Set: \") \n",
    "print(set1) \n",
    "\n",
    "# Creating a Set with the use of a String and a list\n",
    "set1 = set(\"GeeksForGeeks\") \n",
    "set2 = set([1, 2, 3, 4, 5])\n",
    "print(\"\\nSet with the use of String: \") \n",
    "print(set1, set2, sep=',     ') \n",
    "\n",
    "# Creating a Set with \n",
    "# the use of Constructor \n",
    "# (Using object to Store String) \n",
    "String = 'GeeksForGeeks'\n",
    "set1 = set(String) \n",
    "print(\"\\nSet with the use of an Object: \" ) \n",
    "print(set1) \n",
    "\n",
    "# Creating a Set with \n",
    "# the use of a List \n",
    "set1 = set([\"Geeks\", \"For\", \"Geeks\"]) \n",
    "print(\"\\nSet with the use of List: \") \n",
    "print(set1) \n",
    " "
   ]
  },
  {
   "cell_type": "code",
   "execution_count": null,
   "metadata": {},
   "outputs": [],
   "source": [
    " ##########   ###########   #####   SETS   #####   ########   ############   ################    #############\n",
    "\n",
    " =>  A set contains only unique elements but at the time of set creation, multiple duplicate values \n",
    "         can also be passed. Set will take only single occurence of multiple duplicate values.\n",
    " \n",
    " =>  Order of elements in a set is undefined and is unchangeable. \n",
    "\n",
    " =>  Type of elements in a set need not be the same, various mixed up data type values can also be passed to the \n",
    "        set."
   ]
  },
  {
   "cell_type": "code",
   "execution_count": null,
   "metadata": {},
   "outputs": [],
   "source": [
    "# Creating a Set with a List of Numbers (Having duplicate values) \n",
    "\n",
    "set1 = set([1, 2, 4, 4, 3, 3, 3, 6, 5]) \n",
    "print(\"\\nSet with the use of Numbers: \") \n",
    "print(set1) \n",
    "\n",
    "# Creating a Set with a mixed type of values (Having numbers and strings) \n",
    "\n",
    "set2 = set([1, 2, 'Geeks', 4, 'For', 6, 'Geeks']) \n",
    "print(\"\\nSet with the use of Mixed Values\") \n",
    "print(set2) \n"
   ]
  },
  {
   "cell_type": "raw",
   "metadata": {},
   "source": [
    " ##########   ###########   #####  Accessing items in a set   #####   ########   ############   #############    \n",
    " \n",
    " =>  Set items cannot be accessed by referring to an index, since sets are unordered the items has no index. \n",
    "   \n",
    " =>  But you can loop through the set items using a for loop, or ask if a specified value is present in a set, \n",
    "        by using the in keyword. This 'in' keyword returns 'Bool' values\n",
    "        "
   ]
  },
  {
   "cell_type": "code",
   "execution_count": null,
   "metadata": {},
   "outputs": [],
   "source": [
    "# Python program to demonstrate Accessing of elements in a set \n",
    "\n",
    "# Creating a set \n",
    "set1 = set([\"Geeks\", \"For\", \"geeks\"]) \n",
    "print(\"\\nInitial set\") \n",
    "print(set1) \n",
    "\n",
    "# Accessing element using for loop \n",
    "print(\"\\nElements of set: \") \n",
    "for i in set1: \n",
    "\tprint(i) \n",
    "    \n",
    "print(\"\\n\")\n",
    "\n",
    "# Checking the element using in keyword \n",
    "print(\"Geeks\" in set1) \n"
   ]
  },
  {
   "cell_type": "raw",
   "metadata": {},
   "source": [
    " ##########   ###########   #####   SETS  Built-in Methods  ##########   ########   ############   ################  "
   ]
  },
  {
   "cell_type": "markdown",
   "metadata": {},
   "source": [
    "<img src=\"images/set-methods.png\">"
   ]
  },
  {
   "cell_type": "raw",
   "metadata": {},
   "source": [
    " ##########   ###########   #####  Adding Elements to a set   #####   ########   ############   ############    \n",
    " \n",
    " =>  add() -> This adds an element to the set. If that element is already in the set, then it does nothing.\n",
    "                   This add() can add only a single element at a time.\n",
    "              value will be any data-type like as string, integer, floats etc.\n",
    "            \n",
    "            syntax --> set.add(value)  ;  \n",
    "            \n",
    " =>  List cannot be added to a set as an element because it is not hashable.\n",
    " \n",
    " =>  Tuples can be added to a set as an element by using add method or loops.\n",
    "    \n",
    " =>  Loops are used to add multiple elements to a set at a time."
   ]
  },
  {
   "cell_type": "code",
   "execution_count": null,
   "metadata": {},
   "outputs": [],
   "source": [
    "# Python program demonstrate adding multiple elements to a set using LOOPS\n",
    "\n",
    "# Creating an empty set\n",
    "set1 = set()\n",
    "set2 = set()\n",
    "\n",
    "# Adding elements using add() method\n",
    "set1.add(7)\n",
    "set1.add('string')\n",
    "set1.add((2, 5, 3.5))\n",
    "print(set1, \"\\n\")\n",
    "\n",
    "# Adding elements to set using iterator\n",
    "for i in range(1, 6): \n",
    "    set2.add(i) \n",
    "    \n",
    "print (set2)\n"
   ]
  },
  {
   "cell_type": "raw",
   "metadata": {},
   "source": [
    "  ##########   ###########   #####  Updating Elements in a set #####   ########   ############   ############  \n",
    "    \n",
    " \n",
    " =>  update() is used to add multiple elements to a set at a time & passes\n",
    "             Lists, Tuples, strings etc. as arguments.\n",
    "    \n",
    " =>  In all cases, it avoids adding duplicate elements.\n",
    "\n",
    " =>  After updating, the elements of iterables become native elements of set."
   ]
  },
  {
   "cell_type": "code",
   "execution_count": null,
   "metadata": {},
   "outputs": [],
   "source": [
    "# Creating a set\n",
    "set1 = set()\n",
    "\n",
    "# Passing a List, set, tuple with update() to add these in set\n",
    "set1.update([1, 2, 3, 4], (1, 2, 3), {'cat', 'rat, bat'})  \n",
    "print(set1)"
   ]
  },
  {
   "cell_type": "raw",
   "metadata": {},
   "source": [
    " ##########   ###########   #####  Removing elements in a set  #####   ########   ############   ############    \n",
    "\n",
    " =>  Remove() and Discard() methods are used to remove the elemnts from a set.\n",
    " \n",
    " =>  Removing an element (which not exists in set) by remove() method raises a KeyError\n",
    " \n",
    " =>  Discard() is used to remove the elements from the set without getting an error, even if elemnts not exists.\n",
    " \n",
    " =>  Use Loops for remeoving multiple elemnts from a set at a time.\n"
   ]
  },
  {
   "cell_type": "raw",
   "metadata": {},
   "source": [
    "# Python program examples to remopve the elements from the set\n",
    "\n",
    "  >>> set1.remove(1)              ----->>>                Removes '1' from the set\n",
    "  >>> set1.discard(1)             ----->>>                Removes '1' but never raises a keyerror\n",
    "\n",
    "  >>> for i in range(1,5):\n",
    "        set1.remove(i)            ----->>>                Removes element in a range (1, 5)\n",
    "\n",
    "  >>>  print(set1)\n"
   ]
  },
  {
   "cell_type": "raw",
   "metadata": {},
   "source": [
    " ##########   ###########   #####   Pop() method over set  ########  ############   ################  ########\n",
    "\n",
    "\n",
    " =>  Pop() is used to Remove and return an arbitrary set element. \n",
    " \n",
    " =>  This will always pop an element from Left Hand Side and not depends upon the order of sets.\n",
    "     \n",
    "        syntax -->  set1.pop()"
   ]
  },
  {
   "cell_type": "raw",
   "metadata": {},
   "source": [
    " ##########   ###########   #####   Clear() Method over Sets  ########   ########   ############   #############   \n",
    "\n",
    " =>  clear() is used to clear all the items of a set and make that set an Empty set.\n",
    "      \n",
    "      syntax -->  set1.clear()"
   ]
  },
  {
   "cell_type": "code",
   "execution_count": null,
   "metadata": {},
   "outputs": [],
   "source": [
    " ##########   ###########   #####  Some operations over Sets   #####   ########   ############   ##############    \n",
    " \n",
    " \n",
    " =>  union() is used to return the union of both sets as a new set.\n",
    "    \n",
    "         syntax -->  setA.union(setB) -->  { items of set1 and set2 }\n",
    "    \n",
    " \n",
    " =>  difference() returns the difference of two sets as a new set. It removes all the elements of setB from setA and\n",
    "                     returns setA with left items.\n",
    "   \n",
    "         syntax -->  setA.difference(setB)\n",
    "____________________________________________________________________________________________________________________   \n",
    "\n",
    " \n",
    " =>  difference_update() is used to remove all the elements from a set passing as arguement and returns\n",
    "                          setA with left items.\n",
    "  \n",
    "         syntax -->  set1.difference_update(set2)\n",
    "        \n",
    " \n",
    " =>  discard() is used to remove a existing element of set and return 'None' type. \n",
    "                If element not exists, it does nothing.\n",
    " \n",
    "         syntax -->  set.discard('item')\n",
    "____________________________________________________________________________________________________________________      \n",
    " \n",
    "\n",
    " =>  intersection() is used to return an intersection of items of two sets as a new set.\n",
    " \n",
    "         syntax -->  set1.intersection(set2)\n",
    "    \n",
    " \n",
    " =>  intersection_update() is used to Updates the set with the intersection of itself and another.\n",
    "     \n",
    "         syntax -->  set1.intersection_update(set2)\n",
    "____________________________________________________________________________________________________________________   \n",
    " \n",
    " \n",
    " =>  set.isdisjoint() returns True, if two sets have a null intersection.\n",
    " \n",
    " =>  set.issubset() returns true, if another set contains this set.\n",
    " \n",
    " =>  set.issuperset() returns True, if this set contains another set.\n",
    " \n",
    " =>  set.symmetric_difference() returns the symmetric difference of two sets as a new set.\n",
    " \n",
    " =>  set.symmetric_difference_update() Updates a set with the symmetric difference of itself and another.\n",
    " "
   ]
  },
  {
   "cell_type": "raw",
   "metadata": {},
   "source": [
    " ##########   ###########   #####  Frozen Sets  #####  ########   ############   ###########  ###########\n",
    "\n",
    " \n",
    " =>  Frozen sets in Python are immutable objects that only support methods and operators \n",
    "       that produce a result without affecting the frozen set or sets to which they are applied. \n",
    "    \n",
    " =>  While elements of a set can be modified at any time, elements of the frozen set remain the same after creation.\n",
    "\n",
    " =>  If no parameters are passed, it returns an empty frozenset.\n",
    " "
   ]
  },
  {
   "cell_type": "code",
   "execution_count": null,
   "metadata": {},
   "outputs": [],
   "source": [
    "# Python program to demonstrate working of a FrozenSet \n",
    "\n",
    "# To print Empty Frozen Set No parameter is passed \n",
    "print(\" Empty Frozen set is : \", frozenset())\n",
    "\n",
    "# Creating a Set \n",
    "String = ('G', 'e', 'e', 'k', 's', 'F', 'o', 'r') \n",
    "\n",
    "Fset1 = frozenset(String) \n",
    "print(\"The FrozenSet is: \") \n",
    "print(Fset1) \n",
    "\n",
    " \n"
   ]
  },
  {
   "cell_type": "markdown",
   "metadata": {},
   "source": [
    "[ For Python Documentation over Sets, CLICK HERE ](https://docs.python.org/3/tutorial/datastructures.html#sets)"
   ]
  }
 ],
 "metadata": {
  "kernelspec": {
   "display_name": "Python 3",
   "language": "python",
   "name": "python3"
  },
  "language_info": {
   "codemirror_mode": {
    "name": "ipython",
    "version": 3
   },
   "file_extension": ".py",
   "mimetype": "text/x-python",
   "name": "python",
   "nbconvert_exporter": "python",
   "pygments_lexer": "ipython3",
   "version": "3.7.7"
  }
 },
 "nbformat": 4,
 "nbformat_minor": 4
}
