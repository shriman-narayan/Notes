{
 "cells": [
  {
   "cell_type": "code",
   "execution_count": null,
   "metadata": {},
   "outputs": [],
   "source": [
    "    ##########   ###########   Partial functions in Python    ############    #############    ###########\n",
    "    \n",
    " =>  Partial functions allow us to fix a certain number of arguments of a function and generate a new function.\n",
    "\n",
    " =>  This partial function is imported from the functool module.\n",
    "    \n",
    " =>  After making a normal function, We uses Partial function.\n",
    " \n",
    " =>  We passes normal function and its all arguments from this Partial Function.\n",
    "\n",
    " =>  Arguments of Normal function is of 2 types.\n",
    "      \n",
    "        * Keyword Arguments ->  Using this, We have to write them in the proper order A/C to arguments\n",
    "                                   in Normal function, otherwise, we will get different result.\n",
    "                                  >>>  partial_fun = partial(f, 3, 1, 4, 5)\n",
    "            \n",
    "        * Positional Arguments ->  Using this, it is not necessary to follow the proper order.\n",
    "                                  >>>  partial_fun = partial(f, a=3, b=1, c=4, x=5)\n",
    "            \n",
    "            \n",
    " =>  If We ae not passing arguments of Normal Function in above step, then we can pass these all required arguments \n",
    "      from the Partial function in next step during its call.\n",
    "    \n",
    "       >>> partial_fun = (3, 1, 4, 5)\n",
    "        \n",
    " =>  If we have missed some arguments to pass in above step, then we can pass the remaining argument from next step.\n",
    "       i.e. During the call of partial function in any types (keyword or positional).\n",
    "        \n",
    " =>  Partial functions can be used to derive specialized functions from general functions and therefore help us\n",
    "       to reuse our code."
   ]
  },
  {
   "cell_type": "code",
   "execution_count": 16,
   "metadata": {},
   "outputs": [
    {
     "name": "stdout",
     "output_type": "stream",
     "text": [
      "312\n"
     ]
    }
   ],
   "source": [
    "from functools import *\n",
    "\n",
    "# A normal function \n",
    "def add(a, b, c): \n",
    "\treturn 100 * a + 10 * b + c \n",
    "\n",
    "# A partial function with b = 1 and c = 2 \n",
    "add_part = partial(add, c = 2, b = 1) \n",
    "\n",
    "# Calling partial function \n",
    "print(add_part(3)) \n"
   ]
  },
  {
   "cell_type": "code",
   "execution_count": null,
   "metadata": {},
   "outputs": [],
   "source": [
    "    ###########   ############   First Class functions in Python    #############    #############\n",
    "    \n",
    " =>  First class objects in a language are handled uniformly throughout. \n",
    "\n",
    " =>  They may be stored in data structures, passed as arguments, or used in control structures. \n",
    "    \n",
    " =>  A programming language is said to support first-class functions if it treats functions as first-class objects.\n",
    "\n",
    " =>  Python supports the concept of First Class functions.\n",
    "    \n",
    "    ##########   PROPERTIES OF FIRST cLASS FUNCTIONS   ############\n",
    "    \n",
    "    * A function is an instance of the Object type.\n",
    "    \n",
    "    * You can store the function in a variable.\n",
    "\n",
    "    * You can pass the function as a parameter to another function.\n",
    "\n",
    "    * You can return the function from a function.\n",
    "\n",
    "    * You can store them in data structures such as hash tables, lists, …"
   ]
  },
  {
   "cell_type": "code",
   "execution_count": null,
   "metadata": {},
   "outputs": [],
   "source": [
    "         *   Functions are objects\n",
    "    \n",
    " =>  Python functions are first class objects. \n",
    " \n",
    " =>  In the example below, we are assigning function to a variable. \n",
    "\n",
    " =>  This assignment doesn’t call the function.\n",
    "    \n",
    " =>  It takes the function object referenced by shout and creates a second name pointing to it, yell.\n",
    "\n"
   ]
  },
  {
   "cell_type": "code",
   "execution_count": 7,
   "metadata": {},
   "outputs": [
    {
     "ename": "SyntaxError",
     "evalue": "invalid syntax (<ipython-input-7-1958437eda2a>, line 6)",
     "output_type": "error",
     "traceback": [
      "\u001b[0;36m  File \u001b[0;32m\"<ipython-input-7-1958437eda2a>\"\u001b[0;36m, line \u001b[0;32m6\u001b[0m\n\u001b[0;31m    print shout('Hello')\u001b[0m\n\u001b[0m              ^\u001b[0m\n\u001b[0;31mSyntaxError\u001b[0m\u001b[0;31m:\u001b[0m invalid syntax\n"
     ]
    }
   ],
   "source": [
    "# Python program to illustrate functions \n",
    "# can be treated as objects \n",
    "def shout(text): \n",
    "\treturn text.upper() \n",
    "\n",
    "print shout('Hello') \n",
    "\n",
    "yell = shout \n",
    "\n",
    "print yell('Hello') \n"
   ]
  },
  {
   "cell_type": "code",
   "execution_count": null,
   "metadata": {},
   "outputs": [],
   "source": [
    "         *  Functions can be passed as arguments to other functions\n",
    " =>  functions are objects we can pass them as arguments to other functions. \n",
    "\n",
    " =>  Functions that can accept other functions as arguments are also called higher-order functions. \n",
    "    \n",
    " =>  In the example below, we have created a function greet which takes a function as an argument.\n",
    "\n"
   ]
  },
  {
   "cell_type": "code",
   "execution_count": 5,
   "metadata": {},
   "outputs": [
    {
     "name": "stdout",
     "output_type": "stream",
     "text": [
      "HI, I AM CREATED BY A FUNCTION PASSED AS AN ARGUMENT.\n",
      "hi, i am created by a function passed as an argument.\n"
     ]
    }
   ],
   "source": [
    "# Python program to illustrate functions \n",
    "# can be passed as arguments to other functions \n",
    "def shout(text): \n",
    "\treturn text.upper() \n",
    "\n",
    "def whisper(text): \n",
    "\treturn text.lower() \n",
    "\n",
    "def greet(func): \n",
    "\t# storing the function in a variable \n",
    "\tgreeting = func(\"Hi, I am created by a function passed as an argument.\") \n",
    "\tprint (greeting) \n",
    "\n",
    "greet(shout) \n",
    "greet(whisper) \n"
   ]
  },
  {
   "cell_type": "code",
   "execution_count": null,
   "metadata": {},
   "outputs": [],
   "source": [
    "                *     Functions can return another function\n",
    "\n",
    " =>  Because functions are objects we can return a function from another function. \n",
    "\n",
    " =>  In the below example, the create_adder function returns adder function."
   ]
  },
  {
   "cell_type": "code",
   "execution_count": 6,
   "metadata": {},
   "outputs": [
    {
     "ename": "SyntaxError",
     "evalue": "invalid syntax (<ipython-input-6-49d69a9fbfcc>, line 12)",
     "output_type": "error",
     "traceback": [
      "\u001b[0;36m  File \u001b[0;32m\"<ipython-input-6-49d69a9fbfcc>\"\u001b[0;36m, line \u001b[0;32m12\u001b[0m\n\u001b[0;31m    print add_15(10)\u001b[0m\n\u001b[0m               ^\u001b[0m\n\u001b[0;31mSyntaxError\u001b[0m\u001b[0;31m:\u001b[0m invalid syntax\n"
     ]
    }
   ],
   "source": [
    "# Python program to illustrate functions \n",
    "# Functions can return another function \n",
    "\n",
    "def create_adder(x): \n",
    "\tdef adder(y): \n",
    "\t\treturn x+y \n",
    "\n",
    "\treturn adder \n",
    "\n",
    "add_15 = create_adder(15) \n",
    "\n",
    "print add_15(10) \n"
   ]
  },
  {
   "cell_type": "code",
   "execution_count": null,
   "metadata": {},
   "outputs": [],
   "source": []
  }
 ],
 "metadata": {
  "kernelspec": {
   "display_name": "Python 3",
   "language": "python",
   "name": "python3"
  },
  "language_info": {
   "codemirror_mode": {
    "name": "ipython",
    "version": 3
   },
   "file_extension": ".py",
   "mimetype": "text/x-python",
   "name": "python",
   "nbconvert_exporter": "python",
   "pygments_lexer": "ipython3",
   "version": "3.7.7"
  }
 },
 "nbformat": 4,
 "nbformat_minor": 4
}
