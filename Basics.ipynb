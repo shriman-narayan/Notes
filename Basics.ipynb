{
 "cells": [
  {
<<<<<<< HEAD
   "cell_type": "markdown",
   "metadata": {},
   "source": [
    "#                                Python Tutorial                                  #"
=======
   "cell_type": "code",
   "execution_count": null,
   "metadata": {},
   "outputs": [],
   "source": [
    "       ############   ###########   Python tutorial  #############    ############     "
>>>>>>> develop
   ]
  },
  {
   "cell_type": "code",
   "execution_count": null,
   "metadata": {},
   "outputs": [],
   "source": [
    " =>  Python supports two things.\n",
    "      -->  * Scripting      * OOP's\n",
    " =>  variables are nothing, but a type of entity that can try to store some datasets.\n",
    "      e.g.  shriman = 7\n",
    " =>  This assigned value 7 is going to be stored in Heap memory with reference 'shriman' . \n",
    "        This Heap Memory is a type of volatile memory or main memory."
   ]
  },
  {
   "cell_type": "code",
   "execution_count": null,
   "metadata": {},
   "outputs": [],
   "source": [
    " => Python understand all of it's datatypes by itself.\n",
    "     ex. shriman = 7 / \"string\" / True / 5.0              # Assign anyone value to the variable shriman.\n",
    "         type(shriman)                                    # This type() will give the type of the stored value.\n",
    "  \n",
    "     --> int / str / bool / float  \n",
    "            \n",
    "        "
   ]
  },
  {
   "cell_type": "code",
   "execution_count": null,
   "metadata": {},
   "outputs": [],
   "source": [
    " => Complex Datatypes :-- \n",
    "        Complex Literals can be created by using the notation (x = yj), \n",
    "          i.e.  x is real component and y is imaginary component, whereas j is the imaginary unit (iota).\n",
    "                 [j = sqrt(-1)]\n",
    " => Note - 'i' cann't be use here in python so we will use 'j' ."
   ]
  },
  {
   "cell_type": "code",
   "execution_count": 2,
   "metadata": {},
   "outputs": [
    {
     "name": "stdout",
     "output_type": "stream",
     "text": [
      "1.0\n",
      "-2.0\n",
      "<built-in method conjugate of complex object at 0x7fece0851750>\n"
     ]
    }
   ],
   "source": [
    "x = 1.0 - 2.0j           # x is assigned to the imaginary number (1.0 - 2.0j).\n",
    "type (x)                 # This will tell the type of value stored in variable x.\n",
    "print(x.real)            # This will print the real part of complex no. x\n",
    "print(x.imag)            # This will print the imaginary part of complex no. x\n",
    "print(x.conjugate)       # This will print the conjugate of this complex no. x\n",
    "    \n",
    " "
   ]
  },
  {
   "cell_type": "code",
   "execution_count": null,
   "metadata": {},
   "outputs": [],
   "source": [
    "=> Note -->  For getting all the available built-in methods for a given variable in the print statement follow --\n",
    "               print(x.[TAB])   --> press Tab key after \"x.\"  in print statement."
   ]
  },
  {
   "cell_type": "code",
   "execution_count": null,
   "metadata": {},
   "outputs": [],
   "source": [
    " => id(variable)             # This will print the address of the given variable."
   ]
  },
  {
   "cell_type": "code",
   "execution_count": null,
   "metadata": {},
   "outputs": [],
   "source": [
    " => Certain operations in Python requires certain argument, otherwise we will get a typeError.\n",
    "    e.g.  \"str\" + \"ing\"  =  \"string\"          # Strings will concatenated (String-Concatenation)\n",
    "          \"string\" + 1 = TypeError            # This will generate a TypeError,\n",
    "                                                 We cann't concatenate a string with int or float\n",
    "          \"string\" + \"1\" = \"string1\"          # This \"1\" is now a string.\n",
    "          \"string\" + str(1) = \"string1\"       # We are using str() to typecast an 'int' datatype to string.\n",
    "     \n",
    " => Strings can be written under single , double or triple quotes.\n",
    "     e.g.  'string', \"string\", '''string'''\n",
    "    \n",
    " => In Javascipt, Things are different."
   ]
  },
  {
   "cell_type": "code",
   "execution_count": null,
   "metadata": {},
   "outputs": [],
   "source": [
    "  #      variable - Assignment\n",
    "\n",
    "a = 1                       # Variable has been assigned with the value 1.\n",
    "print(type(a))              # This will print the type of the value stored in variable (a).\n",
    "print(a)                    # In print() statement, This will print the value stored in variable a. \n",
    "a                           \n",
    "\n"
   ]
  },
  {
   "cell_type": "code",
   "execution_count": null,
   "metadata": {},
   "outputs": [],
   "source": [
    "  #     Typecasting to 'int'\n",
    "\n",
    "b = int(1)                  # int() is typecasting the value of a to a integer value.\n",
    "print(b)                    # This will print the original value of (b). This value was \n",
    "print(type(b))              # This will print the type of (b)\n",
    "b"
   ]
  },
  {
   "cell_type": "code",
   "execution_count": null,
   "metadata": {},
   "outputs": [],
   "source": [
    "  #     Typecasting to 'float'\n",
    "\n",
    "c = float(1)                 # float() is typecasting the value of a to a floating point value.\n",
    "print(c)                     # This will print the original value of (b). This value was \n",
    "print(type(c))               # This will print the type of (b)\n",
    "c"
   ]
  },
  {
   "cell_type": "code",
   "execution_count": null,
   "metadata": {},
   "outputs": [],
   "source": [
    "  #     Typecasting 'int' to 'string'\n",
    "\n",
    "d = str(1)                   # str() is typecasting the value of a to a string value.\n",
    "print(d)                     # This will print the value of (e).\n",
    "print(type(d))               # This will print the type of (e).\n",
    "\n",
    "\n",
    "  #     Typecasting 'float' to 'string'\n",
    " \n",
    "  #     Typecasting 'int' to 'string'\n",
    "\n",
    "e = str(1.0)                 # str() is typecasting the value of a to a string value.\n",
    "print(e)                     # This will print the value of (e).\n",
    "print(type(e))               # This will print the type of (e).\n",
    "\n",
    "\n",
    "    \n"
   ]
  },
  {
   "cell_type": "code",
   "execution_count": null,
   "metadata": {},
   "outputs": [],
   "source": [
    "#        ##     Boolean Expressions    ##\n",
    "\n",
    "  => Boolean expressions are created  by busing these keywords.\n",
    "          'and', 'or', 'not and', 'not or', 'is'\n",
    "       \n",
    "     => True and False    ---> False\n",
    "     => True or False     ---> True\n",
    "     => not True          ---> False\n",
    "     => not False         ---> True\n",
    "     => True is True      ---> True\n",
    "     => True is False     ---> False\n",
    "     => 'a' is 'a'        ---> True"
   ]
  },
  {
   "cell_type": "code",
   "execution_count": null,
   "metadata": {},
   "outputs": [],
   "source": [
    "#   #  Conditional statements  # \n",
    "\n",
    "  ## These are Building blocks of a Programming language. ##\n",
    "\n",
    "i = 10                          # variable 'i' has been assigned with the integer value 10.\n",
    "\n",
    "if i < 3:                       # If statement is going to be executed and checking the given condition.\n",
    "    print(\"statement1\")         # If the 'If' condition get satisfied, then the 'statement1' will be printed.\n",
    "    \n",
    "elif i < 5:                     # If the above 'If' condition is not get satisfied, then python interpreter will \n",
    "     print(\"statement2\")        #   execute the 'Elif' statement and check for the 2nd condition, \n",
    "                                # If the 'Elif' condition will satisfied, statement2 will be printed.\n",
    "else:                           # If both 'If' and 'Elif' conditions are not satisfied, then the 'Else' condition                                    will be executed and will print the 'statement3'\n",
    "    print(\"statement3\")\n",
    "    \n"
   ]
  },
  {
   "cell_type": "code",
   "execution_count": null,
   "metadata": {},
   "outputs": [],
   "source": [
    " => Note -->  We have to give proper indentations, during Python Programs.\n",
    "                 In Conditional statements, just Hit [Enter] key after the colons of if, elif and else statements.\n",
    "               we can put the if , elif conditions in braces.\n",
    "               e.g. (i < 3), (i > 2)"
   ]
  },
  {
   "cell_type": "code",
   "execution_count": null,
   "metadata": {},
   "outputs": [],
   "source": [
    " =>  In programming, a keyword is a “reserved word” by the language which convey a special meaning to \n",
    "      the interpreter. It may be a command or a parameter.\n",
    "      Keywords cannot be used as a variable name in the program snippet.\n",
    "    \n",
    " =>  Keywords in Python:  Python language also reserves some of keywords that convey special meaning.\n",
    "                          Knowledge of these is necessary part of learning this language.\n",
    "                              Below is list of keywords registered by python .\n",
    " =>  False, elif, lambda, None, else, nonlocal, True, except, not, and, finally, or, as, for, pass, assert, from,\n",
    "     raise, break, global, return, class, if, try, continue, import, while, def, in, with, del, is, yield,\n",
    "\n",
    " =>  Python in its language defines an inbuilt module “keyword” which handles certain operations \n",
    "       related to keywords. \n",
    "     A function “iskeyword()” checks if a string is keyword or not. \n",
    "        Returns true if a string is keyword, else returns false.\n",
    "        "
   ]
  },
  {
   "cell_type": "code",
   "execution_count": 2,
   "metadata": {},
   "outputs": [
    {
     "name": "stdout",
     "output_type": "stream",
     "text": [
      "for is a python keyword\n",
      "geeksforgeeks is not a python keyword\n",
      "elif is a python keyword\n",
      "elseif is not a python keyword\n",
      "nikhil is not a python keyword\n",
      "assert is a python keyword\n",
      "shambhavi is not a python keyword\n",
      "True is a python keyword\n",
      "False is a python keyword\n",
      "akshat is not a python keyword\n",
      "akash is not a python keyword\n",
      "break is a python keyword\n",
      "ashty is not a python keyword\n",
      "lambda is a python keyword\n",
      "suman is not a python keyword\n",
      "try is a python keyword\n",
      "vaishnavi is not a python keyword\n"
     ]
    }
   ],
   "source": [
    "#Python code to demonstrate working of iskeyword() \n",
    "\n",
    "# importing \"keyword\" for keyword operations \n",
    "import keyword \n",
    "\n",
    "# initializing strings for testing \n",
    "s = \"for\"\n",
    "s1 = \"geeksforgeeks\"\n",
    "s2 = \"elif\"\n",
    "s3 = \"elseif\"\n",
    "s4 = \"nikhil\"\n",
    "s5 = \"assert\"\n",
    "s6 = \"shambhavi\"\n",
    "s7 = \"True\"\n",
    "s8 = \"False\"\n",
    "s9 = \"akshat\"\n",
    "s10 = \"akash\"\n",
    "s11 = \"break\"\n",
    "s12 = \"ashty\"\n",
    "s13 = \"lambda\"\n",
    "s14 = \"suman\"\n",
    "s15 = \"try\"\n",
    "s16 = \"vaishnavi\"\n",
    "\n",
    "# checking which are keywords \n",
    "if keyword.iskeyword(s): \n",
    "\t\tprint ( s + \" is a python keyword\") \n",
    "else : print ( s + \" is not a python keyword\") \n",
    "\n",
    "if keyword.iskeyword(s1): \n",
    "\t\tprint ( s1 + \" is a python keyword\") \n",
    "else : print ( s1 + \" is not a python keyword\") \n",
    "\n",
    "if keyword.iskeyword(s2): \n",
    "\t\tprint ( s2 + \" is a python keyword\") \n",
    "else : print ( s2 + \" is not a python keyword\") \n",
    "\n",
    "if keyword.iskeyword(s3): \n",
    "\t\tprint ( s3 + \" is a python keyword\") \n",
    "else : print ( s3 + \" is not a python keyword\") \n",
    "\n",
    "if keyword.iskeyword(s4): \n",
    "\t\tprint ( s4 + \" is a python keyword\") \n",
    "else : print ( s4 + \" is not a python keyword\") \n",
    "\n",
    "if keyword.iskeyword(s5): \n",
    "\t\tprint ( s5 + \" is a python keyword\") \n",
    "else : print ( s5 + \" is not a python keyword\") \n",
    "\n",
    "if keyword.iskeyword(s6): \n",
    "\t\tprint ( s6 + \" is a python keyword\") \n",
    "else : print ( s6 + \" is not a python keyword\") \n",
    "\n",
    "if keyword.iskeyword(s7): \n",
    "\t\tprint ( s7 + \" is a python keyword\") \n",
    "else : print ( s7 + \" is not a python keyword\") \n",
    "\n",
    "if keyword.iskeyword(s8): \n",
    "\t\tprint ( s8 + \" is a python keyword\") \n",
    "else : print ( s8 + \" is not a python keyword\") \n",
    "\n",
    "if keyword.iskeyword(s9): \n",
    "\t\tprint ( s9 + \" is a python keyword\") \n",
    "else : print ( s9 + \" is not a python keyword\") \n",
    "\n",
    "if keyword.iskeyword(s10): \n",
    "\t\tprint ( s10 + \" is a python keyword\") \n",
    "else : print ( s10 + \" is not a python keyword\") \n",
    "\n",
    "if keyword.iskeyword(s11): \n",
    "\t\tprint ( s11 + \" is a python keyword\") \n",
    "else : print ( s11 + \" is not a python keyword\") \n",
    "\n",
    "if keyword.iskeyword(s12): \n",
    "\t\tprint ( s12 + \" is a python keyword\") \n",
    "else : print ( s12 + \" is not a python keyword\") \n",
    "\n",
    "if keyword.iskeyword(s13): \n",
    "\t\tprint ( s13 + \" is a python keyword\") \n",
    "else : print ( s13 + \" is not a python keyword\") \n",
    "\n",
    "if keyword.iskeyword(s14): \n",
    "\t\tprint ( s14 + \" is a python keyword\") \n",
    "else : print ( s14 + \" is not a python keyword\") \n",
    "\n",
    "if keyword.iskeyword(s15): \n",
    "\t\tprint ( s15 + \" is a python keyword\") \n",
    "else : print ( s15 + \" is not a python keyword\") \n",
    "\n",
    "if keyword.iskeyword(s16): \n",
    "\t\tprint ( s16 + \" is a python keyword\") \n",
    "else : print ( s16 + \" is not a python keyword\") \n"
   ]
  },
  {
   "cell_type": "code",
   "execution_count": 1,
   "metadata": {},
   "outputs": [
    {
     "name": "stdout",
     "output_type": "stream",
     "text": [
      "The list of keywords is : \n",
      "['False', 'None', 'True', 'and', 'as', 'assert', 'async', 'await', 'break', 'class', 'continue', 'def', 'del', 'elif', 'else', 'except', 'finally', 'for', 'from', 'global', 'if', 'import', 'in', 'is', 'lambda', 'nonlocal', 'not', 'or', 'pass', 'raise', 'return', 'try', 'while', 'with', 'yield']\n"
     ]
    }
   ],
   "source": [
    "#   =>  “kwlist()” is provided in “keyword” module which prints all the 33 python keywords.\n",
    "\n",
    "#Python code to demonstrate working of iskeyword() \n",
    "\n",
    "# importing \"keyword\" for keyword operations \n",
    "import keyword \n",
    "\n",
    "# printing all keywords at once using \"kwlist()\" \n",
    "print (\"The list of keywords is : \") \n",
    "print (keyword.kwlist) \n"
   ]
  },
  {
   "cell_type": "code",
   "execution_count": null,
   "metadata": {},
   "outputs": [],
   "source": [
    "# Popular Keywords In Python\n",
    "\n",
    " =>  True : This keyword is used to represent a boolean true. If a statement is true, “True” is printed.\n",
    " =>  False : This keyword is used to represent a boolean false. If a statement is false, “False” is printed.\n",
    "               True and False in python are same as 1 and 0.\n",
    "        \n",
    " =>  None : This is a special constant used to denote a null value or a void.\n",
    "             Its important to remember, 0, any empty container(e.g empty list) do not compute to None.\n",
    "            It is an object of its own datatype – NoneType. \n",
    "            It is not possible to create multiple None objects and can assign it to variables.\n",
    "            \n",
    " =>  and : This a logical operator in python. “and” Return the first false value .if not found return last. \n",
    "             The truth table for “and” is depicted below.\n",
    "              3 and 0 returns 0; 3 and 10 returns 10; 0 or 20 or 30 or 10 or 70 returns 70\n",
    "        \n",
    " =>  or : This a logical operator in python. “or” Return the first True value.if not found return last.\n",
    "           The truth table for “or” is depicted below. 3 or 0 returns 3; 3 or 10 returns 3; 0 or 0 or 3 or 10 or 0 returns 3\n",
    "      \n",
    " =>  not : This logical operator inverts the truth value. The truth table for “not” is depicted below.\n",
    " \n",
    "                   Truth table\n",
    "    \n",
    "    A           B            A and B          A or B             not             \n",
    "\n",
    "   True       True            True             True             False            \n",
    "   True       False           False            True\n",
    "   False      False           False            True\n",
    "   False      False           False            False             True\n",
    "        \n",
    "        \n",
    " =>  assert : This function is used for debugging purposes. Usually used to check the correctness of code.\n",
    "            If a statement evaluated to true, nothing happens, but when it is false, “AssertionError” is raised .\n",
    "            One can also print a message with the error, separated by a comma.\n",
    "            \n",
    " =>  break : “break” is used to control the flow of loop. The statement is used to break out of loop and passes \n",
    "                 the control to the statement following immediately after loop.\n",
    " =>  continue : “continue” is also used to control the flow of code. The keyword skips the current iteration of the loop, \n",
    "                 but does not end the loop. \n",
    "        \n",
    " =>   class : This keyword is used to declare user defined classes\n",
    " =>   def : This keyword is used to declare user defined functions\n",
    " =>    if : It is a control statement for decision making. \n",
    "              Truth expression forces control to go in “if” statement block.\n",
    "        \n",
    " =>    else : It is a control statement for decision making. \n",
    "                False expression forces control to go in “else” statement block.\n",
    "        \n",
    " =>   elif : It is a control statement for decision making. It is short for “else if”\n",
    " =>   del : del is used to delete a reference to an object. Any variable or list value can be deleted using del.\n",
    "    \n",
    " =>   try : This keyword is used for exception handling, used to catch the errors in the code using the keyword except. \n",
    "              Code in “try” block is checked, if there is any type of error, except block is executed.\n",
    " =>   except : As explained above, this works together with “try” to catch exceptions.\n",
    " =>   raise : Also used for exception handling to explicitly raise exceptions.\n",
    " =>   finally : No matter what is result of the “try” block, block termed “finally” is always executed\n",
    " =>   for : This keyword is used to control flow and for looping.\n",
    "\n",
    " =>   while : Has a similar working like “for” , used to control flow and for looping.\n",
    "    \n",
    " =>   pass : It is the null statement in python. Nothing happens when this is encountered. \n",
    "               This is used to prevent indentation errors and used as a placeholder.\n",
    " =>   import : This statement is used to include a particular module into current program.\n",
    "    \n",
    " =>   from : Generally used with import, from is used to import particular functionality from the module imported.\n",
    "    \n",
    " =>   as : This keyword is used to create the alias for the module imported.\n",
    "             i.e giving a new name to the imported module.. E.g import math as mymath.\n",
    "        \n",
    " =>   lambda : This keyword is used to make inline returning functions with no statements allowed internally.\n",
    " =>   return : This keyword is used to return from the function. \n",
    " =>   yield : This keyword is used like return statement but is used to return a generator.\n",
    " =>   with : This keyword is used to wrap the execution of block of code within methods defined by context manager.\n",
    "              This keyword is not used much in day to day programming.\n",
    " =>    in : This keyword is used to check if a container contains a value. \n",
    "              This keyword is also used to loop through the container.\n",
    "        \n",
    " =>    is : This keyword is used to test object identity, i.e to check if both the objects take same memory location or not.\n",
    " =>    global : This keyword is used to define a variable inside the function to be of a global scope.\n",
    "    \n",
    " =>    non-local : This keyword works similar to the global, but rather than global, this keyword declares a variable\n",
    "                    to point to variable of outside enclosing function, in case of nested functions.\n",
    "        \n",
    " "
   ]
  },
  {
   "cell_type": "code",
   "execution_count": null,
   "metadata": {},
   "outputs": [],
   "source": [
    " #        Statements in python\n",
    "    \n",
    " =>  Instructions written in the source code for execution are called statements. \n",
    "      There are different types of statements in the Python programming language like Assignment statement,\n",
    "      Conditional statement, Looping statements etc. \n",
    "      These all help the user to get the required output.\n",
    "    \n",
    " =>  Multiline statements --> Statements in Python can be extended to one or more lines using parentheses (), \n",
    "                             braces {}, square brackets [], semi-colon (;), continuation character slash (\\).\n",
    "    -->  When the programmer needs to do long calculations and cannot fit his statements into one line, \n",
    "         one can make use of these characters.\n",
    "        \n",
    "    "
   ]
  },
  {
   "cell_type": "code",
   "execution_count": null,
   "metadata": {},
   "outputs": [],
   "source": [
    "#          Comments in python\n",
    "\n",
    "=>  '#' is used in the beginning of any line for making it a comment.\n",
    "        whatever we write after '#' is get ignored by the compiler.\n",
    "    \n",
    "=>  \"\"\"  jhfgjhfghjgj      -->  This is used to give a multi line comment.\n",
    "          hkjhkjdgkj\n",
    "           jhfkjhgfghfh\"\"\""
   ]
  },
  {
   "cell_type": "code",
   "execution_count": null,
   "metadata": {},
   "outputs": [],
   "source": []
  }
 ],
 "metadata": {
  "kernelspec": {
   "display_name": "Python 3",
   "language": "python",
   "name": "python3"
  },
  "language_info": {
   "codemirror_mode": {
    "name": "ipython",
    "version": 3
   },
   "file_extension": ".py",
   "mimetype": "text/x-python",
   "name": "python",
   "nbconvert_exporter": "python",
   "pygments_lexer": "ipython3",
   "version": "3.7.7"
  }
 },
 "nbformat": 4,
 "nbformat_minor": 2
}
