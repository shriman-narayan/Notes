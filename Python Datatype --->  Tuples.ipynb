{
 "cells": [
  {
   "cell_type": "code",
   "execution_count": null,
   "metadata": {},
   "outputs": [],
   "source": [
    " ########    #######    #######     Tuples     ########    ###########     ##########     ###########"
   ]
  },
  {
   "cell_type": "code",
   "execution_count": null,
   "metadata": {},
   "outputs": [],
   "source": [
    "           #######    #######   Tuples    #######    ########   ########\n",
    "\n",
    " =>  Tuple is a collection of Python objects much like a list. \n",
    "    \n",
    " =>  The sequence of values stored in a tuple can be of any type, and they are indexed by integers.\n",
    "\n",
    " =>  Values of a tuple are syntactically separated by ‘commas’. \n",
    "     \n",
    " =>  It is more common to define a tuple by closing the sequence of values in parentheses.\n",
    "        This helps in understanding the Python tuples more easily.\n",
    "    \n",
    " =>  In Python, Tuples are created by placing sequence of values separated by ‘comma’ with or without \n",
    "                the use of parentheses for grouping of data sequence.\n",
    "\n",
    "    Note – Creation of Python tuple without the use of parentheses is known as Tuple Packing.\n",
    "\n",
    " =>  Some ways to ctreate a tuple.\n",
    "\n",
    "     >>> Tuple1 = ()                      #  This creates an Empty tuple\n",
    "    \n",
    "     >>> Tuple2 = tuple(iterable)         #  This creates a tuple by passing an iterable like as Lists, strings etc.\n",
    "        \n",
    "     >>> Tuple3 = ('Hello', 'World')      #  This creates a tuple using strings.\n",
    "    \n",
    "     >>> Tuple4 = ([1, 2, 3], ['Hello', 'World'])     #  This creates a tuple by using Lists.\n",
    "\n",
    "        \n",
    " =>  Tuples can contain any number of elements and of any datatype (like strings, integers, list, etc.). \n",
    "\n",
    " =>  Tuples can also be created with a single element, but it is a bit tricky. \n",
    "      Having one element in the parentheses is not sufficient, there must be a trailing ‘comma’ to make it a tuple.\n",
    "        \n",
    " => some other types of tuples.\n",
    "\n",
    "    >>> Mixed_Tuple = (5, 'welcome', 7, 'here')          #  This is a tuple with mixed types of characters.\n",
    "    \n",
    "    >>> Nested_Tuple = (Tuple1, Tuple2)                  #  This is a Nested Tuple.  \n",
    "    \n",
    "    >>> Repeated_Tuple = (iterable,) * n                 #  This is a Tuple created by repeating an item 'n' times\n",
    "                                                         #  Iterable should be an integer, string, floats, \n",
    "                                                         #  Tuples, sets etc.\n"
   ]
  },
  {
   "cell_type": "code",
   "execution_count": null,
   "metadata": {},
   "outputs": [],
   "source": [
    "       #########    ######    Accessing Tuple Items   #######    ############\n",
    "    \n",
    " =>  Tuples are immutable, and usually, they contain a sequence of heterogeneous elements that are accessed \n",
    "        via unpacking or indexing (or even by attribute in the case of named tuples). \n",
    "\n",
    " =>  Lists are mutable, and their elements are usually homogeneous and are accessed by iterating over the list.\n",
    "\n",
    " =>  NOTE : In unpacking of tuple number of variables on left hand side should be equal to number of values\n",
    "              in a given tuple.\n",
    "            \n",
    " =>  Accessin items of Tuple by Indexing\n",
    "  \n",
    "    >>> Tuple1 = ('Geeks')\n",
    "\n",
    "    >>> Tuple1[i]  --->>>  This will access the 'i'th  character of Tuple1.\n",
    "    >>> Tuple[-i]  --->>>  This will access the 'i'th  character of Tuple1 in Reversed direction.\n",
    "    \n",
    " =>  Accessing Items of a Tuple by Tuple's Unpacking.\n",
    "\n",
    "    >>> Tuple1 = (\"Geeks\", \"For\", \"Geeks\")\n",
    "    \n",
    "    >>> a, b, c = Tuple1         #  This is Tuples Unpacking.\n",
    "    \n",
    "    >>> print(\"a is {}, b is {} and c is {}\".format(a, b, c))"
   ]
  },
  {
   "cell_type": "code",
   "execution_count": null,
   "metadata": {},
   "outputs": [],
   "source": [
    "  #######     ##########    ########  Slicing of Tuple    ##########   ############    ###########      ##########\n",
    "    \n",
    " =>  Slicing of a Tuple is done to fetch a specific range or slice of sub-elements from a Tuple. \n",
    "\n",
    " =>  Slicing can also be done to lists and arrays. \n",
    "    \n",
    " =>  Indexing in a list results to fetching a single element whereas Slicing allows to fetch a set of elements.\n",
    "\n",
    " =>  Note- Negative Increment values can also be used to reverse the sequence of Tuples.\n",
    "    \n",
    "    "
   ]
  },
  {
   "cell_type": "markdown",
   "metadata": {},
   "source": [
    "<img src=\"images/Tuple-slicing.jpg\">\n",
    "          \n",
    "          "
   ]
  },
  {
   "cell_type": "code",
   "execution_count": null,
   "metadata": {},
   "outputs": [],
   "source": [
    " ###########    ###########    #####  Concatenation of Tuples   ########    ########   #############   #######\n",
    "    \n",
    " =>  Concatenation of tuple is the process of joining of two or more Tuples.\n",
    "\n",
    " =>  Concatenation is done by the use of ‘+’ operator. \n",
    "    \n",
    " =>  Concatenation of tuples is done always from the end of the original tuple.\n",
    "       Other arithmetic operations do not apply on Tuples.\n",
    "\n",
    " =>  Note - Only same datatypes can be combined with concatenation, an error arises \n",
    "               if a list and a tuple are combined."
   ]
  },
  {
   "cell_type": "markdown",
   "metadata": {},
   "source": [
    "<img src=\"images/Tuple-Concatenation.jpg\">"
   ]
  },
  {
   "cell_type": "code",
   "execution_count": null,
   "metadata": {},
   "outputs": [],
   "source": [
    "# Concatenaton of tuples \n",
    "\n",
    "Tuple1 = (0, 1, 2, 3) \n",
    "Tuple2 = ('Geeks', 'For', 'Geeks') \n",
    "\n",
    "Tuple3 = Tuple1 + Tuple2 \n",
    "\n",
    "print (\" The Concatenated Tuple is : \", Tuple3)\n"
   ]
  },
  {
   "cell_type": "code",
   "execution_count": null,
   "metadata": {},
   "outputs": [],
   "source": [
    "     #############    ############    Tuple - Deletion     ############   ###########    ##############\n",
    "    \n",
    " =>  Tuples are immutable and Updation & Deletion of items are not allowed.\n",
    "\n",
    " =>  Entire Tuple can be deleted by the using 'del' keyword.\n",
    "    \n",
    " =>  Note -> Printing of Tuple after deletion results to an Error.\n",
    "\n",
    "   >>> Tuple = ('Geeks', 'for', 'Geeks')\n",
    "    \n",
    "   >>> del Tuple    ---->>   This deletes the Tuple."
   ]
  },
  {
   "cell_type": "markdown",
   "metadata": {},
   "source": [
    "<img  src=\"images/tuple-methods.png\">"
   ]
  },
  {
   "cell_type": "code",
   "execution_count": null,
   "metadata": {},
   "outputs": [],
   "source": [
    "     #######   #########  Tuple's Built-in Methods  #######    ##########     \n",
    "    \n",
    " =>  tuple(iterable) -->  This Returns an immutable sequence known as 'Tuple'.\n",
    "                \n",
    "            *  If no argument is given, the constructor returns an empty tuple.\n",
    "       \n",
    "            *  If iterable is specified the tuple is initialized from iterable's items.\n",
    "        \n",
    "            *  If the argument is a tuple, the return value is the same object.\n",
    "        \n",
    " \n",
    " =>  type(iterable) -->  This returns the type of the object or iterable passing as argument.\n",
    "                                    We can pass integers, floats, strings, lists, sets, tuples, arrays, \n",
    "                                      dictionaries and any variables as argument.\n",
    "        \n",
    " =>  len(iterable) -->   This returns the size of object or iterable passing as the argument.\n",
    "                                    We can pass strings, lists, sets, tuples, dictionaries, arrays, variables\n",
    "                                      and any other objects from this method.\n",
    "    \n",
    " =>  max(iterable) -->     This returns the Maximum element of the container or object.\n",
    "                                    We can pass all containers, strings, variables through it.\n",
    "                                   In the case of string, This returns the alphabetically maximum item.\n",
    "\n",
    " =>  min(iterable) -->     This returns the minimum element of container or strings.\n",
    "\n",
    " =>  sum(iterable) -->     This returns the sum of all elements of a container. \n",
    "                            \n",
    "        >>> sum(dict)  --->  This returns the sum of keys of dictionary passing thru.\n",
    "                              \n",
    "                               i.e.,  sum(dict) -->  'k1' + 'k2' + 'k3' + ... + 'kn'\n",
    "        \n",
    "        \n",
    "        >>> sum(dict[k]) --->  This returns the sum of all items of the 'value' regarding key 'k' . \n",
    "        \n",
    "       \n",
    "        >>> sum(list) -->  This returns sum of all items of a normal list.\n",
    "        >>> sum(list[][]..) -->  This returns the sum of a particular list in Nested list.\n",
    "        \n",
    "        NOTE -->  sum() works similarly on sets and Tuples as it works on a list.\n",
    "        NOTE -->  sum() will work on Containers numerical values only.\n",
    "        NOTE -->  For getting some programs to find the sum of all items of a container, look the below shell.\n",
    "        \n",
    " =>  sorted(iterable, key=None, reverse=False) -->  This return a new container containing all items from \n",
    "                                                     the old container.\n",
    "         * key is used to customize the sort order.\n",
    "         * reverse order is used to give direction of sorting.\n",
    "             reverse=False (Default value)  --> This sort items in Ascending order.\n",
    "             reverse=True -->  This sort items in Drscending order.\n",
    "            \n",
    " =>  enumerate(iterable, start=0)  -->  This is used to return the enumerate object.\n",
    "\n",
    " =>  all(iterable)  -->  This return True, if all items of a container are True.\n",
    " =>  any(iterable)  -->  This return True, if any items of a container is True."
   ]
  },
  {
   "cell_type": "markdown",
   "metadata": {},
   "source": [
    " =>  For getting the sum of all items in a Dictionary, We need to use loops and define some functions.\n",
    "       Visit -->>  [Sum of all items of dictionary](url_here)"
   ]
  },
  {
   "cell_type": "markdown",
   "metadata": {},
   "source": [
    "[For Python Documentation Over Tuples, CLICK HERE](https://docs.python.org/3/tutorial/datastructures.html#tuples-and-sequences)"
   ]
  },
  {
   "cell_type": "code",
   "execution_count": null,
   "metadata": {},
   "outputs": [],
   "source": []
  }
 ],
 "metadata": {
  "kernelspec": {
   "display_name": "Python 3",
   "language": "python",
   "name": "python3"
  },
  "language_info": {
   "codemirror_mode": {
    "name": "ipython",
    "version": 3
   },
   "file_extension": ".py",
   "mimetype": "text/x-python",
   "name": "python",
   "nbconvert_exporter": "python",
   "pygments_lexer": "ipython3",
   "version": "3.7.7"
  }
 },
 "nbformat": 4,
 "nbformat_minor": 4
}
